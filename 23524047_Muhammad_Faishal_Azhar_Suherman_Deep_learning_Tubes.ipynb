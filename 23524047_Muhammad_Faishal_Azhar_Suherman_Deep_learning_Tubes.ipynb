{
  "nbformat": 4,
  "nbformat_minor": 0,
  "metadata": {
    "colab": {
      "provenance": [],
      "gpuType": "T4",
      "collapsed_sections": [
        "MzEOefA8Of1G"
      ]
    },
    "kernelspec": {
      "name": "python3",
      "display_name": "Python 3"
    },
    "language_info": {
      "name": "python"
    },
    "accelerator": "GPU"
  },
  "cells": [
    {
      "cell_type": "markdown",
      "source": [
        "Nama : Muhammad Faishal Azhar Suherman\n",
        "\n",
        "NIM : 23524047\n",
        "\n",
        "**TUGAS IF5250 - MINI TRANSFORMER FROM SCRATCH**"
      ],
      "metadata": {
        "id": "f1P1DsQDECxg"
      }
    },
    {
      "cell_type": "markdown",
      "source": [
        "# Instalasi Library yang diperlukan"
      ],
      "metadata": {
        "id": "nSvyRyppEOJL"
      }
    },
    {
      "cell_type": "markdown",
      "source": [
        "Dilakukan persiapan untuk library serta pembuatan fungsi untuk pembuatan transformer"
      ],
      "metadata": {
        "id": "1lhuhj1nP2z4"
      }
    },
    {
      "cell_type": "code",
      "source": [
        "!pip install transformers"
      ],
      "metadata": {
        "colab": {
          "base_uri": "https://localhost:8080/"
        },
        "id": "mlAyTm6ssnVO",
        "outputId": "ebac62a2-60e1-4358-8093-26b46347c90f"
      },
      "execution_count": null,
      "outputs": [
        {
          "output_type": "stream",
          "name": "stdout",
          "text": [
            "Requirement already satisfied: transformers in /usr/local/lib/python3.11/dist-packages (4.52.2)\n",
            "Requirement already satisfied: filelock in /usr/local/lib/python3.11/dist-packages (from transformers) (3.18.0)\n",
            "Requirement already satisfied: huggingface-hub<1.0,>=0.30.0 in /usr/local/lib/python3.11/dist-packages (from transformers) (0.31.4)\n",
            "Requirement already satisfied: numpy>=1.17 in /usr/local/lib/python3.11/dist-packages (from transformers) (2.0.2)\n",
            "Requirement already satisfied: packaging>=20.0 in /usr/local/lib/python3.11/dist-packages (from transformers) (24.2)\n",
            "Requirement already satisfied: pyyaml>=5.1 in /usr/local/lib/python3.11/dist-packages (from transformers) (6.0.2)\n",
            "Requirement already satisfied: regex!=2019.12.17 in /usr/local/lib/python3.11/dist-packages (from transformers) (2024.11.6)\n",
            "Requirement already satisfied: requests in /usr/local/lib/python3.11/dist-packages (from transformers) (2.32.3)\n",
            "Requirement already satisfied: tokenizers<0.22,>=0.21 in /usr/local/lib/python3.11/dist-packages (from transformers) (0.21.1)\n",
            "Requirement already satisfied: safetensors>=0.4.3 in /usr/local/lib/python3.11/dist-packages (from transformers) (0.5.3)\n",
            "Requirement already satisfied: tqdm>=4.27 in /usr/local/lib/python3.11/dist-packages (from transformers) (4.67.1)\n",
            "Requirement already satisfied: fsspec>=2023.5.0 in /usr/local/lib/python3.11/dist-packages (from huggingface-hub<1.0,>=0.30.0->transformers) (2025.3.2)\n",
            "Requirement already satisfied: typing-extensions>=3.7.4.3 in /usr/local/lib/python3.11/dist-packages (from huggingface-hub<1.0,>=0.30.0->transformers) (4.13.2)\n",
            "Requirement already satisfied: charset-normalizer<4,>=2 in /usr/local/lib/python3.11/dist-packages (from requests->transformers) (3.4.2)\n",
            "Requirement already satisfied: idna<4,>=2.5 in /usr/local/lib/python3.11/dist-packages (from requests->transformers) (3.10)\n",
            "Requirement already satisfied: urllib3<3,>=1.21.1 in /usr/local/lib/python3.11/dist-packages (from requests->transformers) (2.4.0)\n",
            "Requirement already satisfied: certifi>=2017.4.17 in /usr/local/lib/python3.11/dist-packages (from requests->transformers) (2025.4.26)\n"
          ]
        }
      ]
    },
    {
      "cell_type": "code",
      "source": [
        "!pip install --quiet gcsfs"
      ],
      "metadata": {
        "id": "SCohVFbJNWhv"
      },
      "execution_count": null,
      "outputs": []
    },
    {
      "cell_type": "code",
      "source": [
        "from google.colab import drive\n",
        "import pandas as pd\n",
        "import tensorflow as tf\n",
        "from tensorflow import keras\n",
        "from tensorflow.keras import layers\n",
        "import string\n",
        "import re\n",
        "import numpy as np\n",
        "from sklearn.model_selection import train_test_split\n",
        "from transformers import BertTokenizerFast\n",
        "import matplotlib.pyplot as plt"
      ],
      "metadata": {
        "id": "VbxOcII_PFf_"
      },
      "execution_count": null,
      "outputs": []
    },
    {
      "cell_type": "markdown",
      "source": [
        "# EDA"
      ],
      "metadata": {
        "id": "5bWCp2PBETrn"
      }
    },
    {
      "cell_type": "markdown",
      "source": [
        "##Data set Hugging face"
      ],
      "metadata": {
        "id": "yFIOsxiIEYMM"
      }
    },
    {
      "cell_type": "code",
      "source": [
        "# Load dataset dari Hugging Face\n",
        "df = pd.read_parquet(\"hf://datasets/nutorbit/news-headline-gen/data/train-00000-of-00001-6514c1e1dfd87aa3.parquet\")"
      ],
      "metadata": {
        "colab": {
          "base_uri": "https://localhost:8080/"
        },
        "id": "fpMLgxWkNdgE",
        "outputId": "aa2d5e03-e9cf-444b-919b-2089c59f92cc"
      },
      "execution_count": null,
      "outputs": [
        {
          "output_type": "stream",
          "name": "stderr",
          "text": [
            "/usr/local/lib/python3.11/dist-packages/huggingface_hub/utils/_auth.py:94: UserWarning: \n",
            "The secret `HF_TOKEN` does not exist in your Colab secrets.\n",
            "To authenticate with the Hugging Face Hub, create a token in your settings tab (https://huggingface.co/settings/tokens), set it as secret in your Google Colab and restart your session.\n",
            "You will be able to reuse this secret in all of your notebooks.\n",
            "Please note that authentication is recommended but still optional to access public models or datasets.\n",
            "  warnings.warn(\n"
          ]
        }
      ]
    },
    {
      "cell_type": "code",
      "source": [
        "# Menampilkan isi dataset\n",
        "df.describe()"
      ],
      "metadata": {
        "colab": {
          "base_uri": "https://localhost:8080/",
          "height": 175
        },
        "id": "mGwM1oAzNevz",
        "outputId": "c0c4e8ae-5301-4561-9a2a-19c0b2b9b33d"
      },
      "execution_count": null,
      "outputs": [
        {
          "output_type": "execute_result",
          "data": {
            "text/plain": [
              "                                                 headline  \\\n",
              "count                                               21157   \n",
              "unique                                              19417   \n",
              "top     Japan Earthquake Death Toll: 200 to 300 Found ...   \n",
              "freq                                                    4   \n",
              "\n",
              "                                                     news  \n",
              "count                                               21157  \n",
              "unique                                              19437  \n",
              "top     (Mar 11, 2011  9:10 AM) The death toll continu...  \n",
              "freq                                                    4  "
            ],
            "text/html": [
              "\n",
              "  <div id=\"df-eca31306-40c7-41de-ab61-91f95557169e\" class=\"colab-df-container\">\n",
              "    <div>\n",
              "<style scoped>\n",
              "    .dataframe tbody tr th:only-of-type {\n",
              "        vertical-align: middle;\n",
              "    }\n",
              "\n",
              "    .dataframe tbody tr th {\n",
              "        vertical-align: top;\n",
              "    }\n",
              "\n",
              "    .dataframe thead th {\n",
              "        text-align: right;\n",
              "    }\n",
              "</style>\n",
              "<table border=\"1\" class=\"dataframe\">\n",
              "  <thead>\n",
              "    <tr style=\"text-align: right;\">\n",
              "      <th></th>\n",
              "      <th>headline</th>\n",
              "      <th>news</th>\n",
              "    </tr>\n",
              "  </thead>\n",
              "  <tbody>\n",
              "    <tr>\n",
              "      <th>count</th>\n",
              "      <td>21157</td>\n",
              "      <td>21157</td>\n",
              "    </tr>\n",
              "    <tr>\n",
              "      <th>unique</th>\n",
              "      <td>19417</td>\n",
              "      <td>19437</td>\n",
              "    </tr>\n",
              "    <tr>\n",
              "      <th>top</th>\n",
              "      <td>Japan Earthquake Death Toll: 200 to 300 Found ...</td>\n",
              "      <td>(Mar 11, 2011  9:10 AM) The death toll continu...</td>\n",
              "    </tr>\n",
              "    <tr>\n",
              "      <th>freq</th>\n",
              "      <td>4</td>\n",
              "      <td>4</td>\n",
              "    </tr>\n",
              "  </tbody>\n",
              "</table>\n",
              "</div>\n",
              "    <div class=\"colab-df-buttons\">\n",
              "\n",
              "  <div class=\"colab-df-container\">\n",
              "    <button class=\"colab-df-convert\" onclick=\"convertToInteractive('df-eca31306-40c7-41de-ab61-91f95557169e')\"\n",
              "            title=\"Convert this dataframe to an interactive table.\"\n",
              "            style=\"display:none;\">\n",
              "\n",
              "  <svg xmlns=\"http://www.w3.org/2000/svg\" height=\"24px\" viewBox=\"0 -960 960 960\">\n",
              "    <path d=\"M120-120v-720h720v720H120Zm60-500h600v-160H180v160Zm220 220h160v-160H400v160Zm0 220h160v-160H400v160ZM180-400h160v-160H180v160Zm440 0h160v-160H620v160ZM180-180h160v-160H180v160Zm440 0h160v-160H620v160Z\"/>\n",
              "  </svg>\n",
              "    </button>\n",
              "\n",
              "  <style>\n",
              "    .colab-df-container {\n",
              "      display:flex;\n",
              "      gap: 12px;\n",
              "    }\n",
              "\n",
              "    .colab-df-convert {\n",
              "      background-color: #E8F0FE;\n",
              "      border: none;\n",
              "      border-radius: 50%;\n",
              "      cursor: pointer;\n",
              "      display: none;\n",
              "      fill: #1967D2;\n",
              "      height: 32px;\n",
              "      padding: 0 0 0 0;\n",
              "      width: 32px;\n",
              "    }\n",
              "\n",
              "    .colab-df-convert:hover {\n",
              "      background-color: #E2EBFA;\n",
              "      box-shadow: 0px 1px 2px rgba(60, 64, 67, 0.3), 0px 1px 3px 1px rgba(60, 64, 67, 0.15);\n",
              "      fill: #174EA6;\n",
              "    }\n",
              "\n",
              "    .colab-df-buttons div {\n",
              "      margin-bottom: 4px;\n",
              "    }\n",
              "\n",
              "    [theme=dark] .colab-df-convert {\n",
              "      background-color: #3B4455;\n",
              "      fill: #D2E3FC;\n",
              "    }\n",
              "\n",
              "    [theme=dark] .colab-df-convert:hover {\n",
              "      background-color: #434B5C;\n",
              "      box-shadow: 0px 1px 3px 1px rgba(0, 0, 0, 0.15);\n",
              "      filter: drop-shadow(0px 1px 2px rgba(0, 0, 0, 0.3));\n",
              "      fill: #FFFFFF;\n",
              "    }\n",
              "  </style>\n",
              "\n",
              "    <script>\n",
              "      const buttonEl =\n",
              "        document.querySelector('#df-eca31306-40c7-41de-ab61-91f95557169e button.colab-df-convert');\n",
              "      buttonEl.style.display =\n",
              "        google.colab.kernel.accessAllowed ? 'block' : 'none';\n",
              "\n",
              "      async function convertToInteractive(key) {\n",
              "        const element = document.querySelector('#df-eca31306-40c7-41de-ab61-91f95557169e');\n",
              "        const dataTable =\n",
              "          await google.colab.kernel.invokeFunction('convertToInteractive',\n",
              "                                                    [key], {});\n",
              "        if (!dataTable) return;\n",
              "\n",
              "        const docLinkHtml = 'Like what you see? Visit the ' +\n",
              "          '<a target=\"_blank\" href=https://colab.research.google.com/notebooks/data_table.ipynb>data table notebook</a>'\n",
              "          + ' to learn more about interactive tables.';\n",
              "        element.innerHTML = '';\n",
              "        dataTable['output_type'] = 'display_data';\n",
              "        await google.colab.output.renderOutput(dataTable, element);\n",
              "        const docLink = document.createElement('div');\n",
              "        docLink.innerHTML = docLinkHtml;\n",
              "        element.appendChild(docLink);\n",
              "      }\n",
              "    </script>\n",
              "  </div>\n",
              "\n",
              "\n",
              "    <div id=\"df-0b4c3f8a-5043-46df-a417-6b8f63612d9f\">\n",
              "      <button class=\"colab-df-quickchart\" onclick=\"quickchart('df-0b4c3f8a-5043-46df-a417-6b8f63612d9f')\"\n",
              "                title=\"Suggest charts\"\n",
              "                style=\"display:none;\">\n",
              "\n",
              "<svg xmlns=\"http://www.w3.org/2000/svg\" height=\"24px\"viewBox=\"0 0 24 24\"\n",
              "     width=\"24px\">\n",
              "    <g>\n",
              "        <path d=\"M19 3H5c-1.1 0-2 .9-2 2v14c0 1.1.9 2 2 2h14c1.1 0 2-.9 2-2V5c0-1.1-.9-2-2-2zM9 17H7v-7h2v7zm4 0h-2V7h2v10zm4 0h-2v-4h2v4z\"/>\n",
              "    </g>\n",
              "</svg>\n",
              "      </button>\n",
              "\n",
              "<style>\n",
              "  .colab-df-quickchart {\n",
              "      --bg-color: #E8F0FE;\n",
              "      --fill-color: #1967D2;\n",
              "      --hover-bg-color: #E2EBFA;\n",
              "      --hover-fill-color: #174EA6;\n",
              "      --disabled-fill-color: #AAA;\n",
              "      --disabled-bg-color: #DDD;\n",
              "  }\n",
              "\n",
              "  [theme=dark] .colab-df-quickchart {\n",
              "      --bg-color: #3B4455;\n",
              "      --fill-color: #D2E3FC;\n",
              "      --hover-bg-color: #434B5C;\n",
              "      --hover-fill-color: #FFFFFF;\n",
              "      --disabled-bg-color: #3B4455;\n",
              "      --disabled-fill-color: #666;\n",
              "  }\n",
              "\n",
              "  .colab-df-quickchart {\n",
              "    background-color: var(--bg-color);\n",
              "    border: none;\n",
              "    border-radius: 50%;\n",
              "    cursor: pointer;\n",
              "    display: none;\n",
              "    fill: var(--fill-color);\n",
              "    height: 32px;\n",
              "    padding: 0;\n",
              "    width: 32px;\n",
              "  }\n",
              "\n",
              "  .colab-df-quickchart:hover {\n",
              "    background-color: var(--hover-bg-color);\n",
              "    box-shadow: 0 1px 2px rgba(60, 64, 67, 0.3), 0 1px 3px 1px rgba(60, 64, 67, 0.15);\n",
              "    fill: var(--button-hover-fill-color);\n",
              "  }\n",
              "\n",
              "  .colab-df-quickchart-complete:disabled,\n",
              "  .colab-df-quickchart-complete:disabled:hover {\n",
              "    background-color: var(--disabled-bg-color);\n",
              "    fill: var(--disabled-fill-color);\n",
              "    box-shadow: none;\n",
              "  }\n",
              "\n",
              "  .colab-df-spinner {\n",
              "    border: 2px solid var(--fill-color);\n",
              "    border-color: transparent;\n",
              "    border-bottom-color: var(--fill-color);\n",
              "    animation:\n",
              "      spin 1s steps(1) infinite;\n",
              "  }\n",
              "\n",
              "  @keyframes spin {\n",
              "    0% {\n",
              "      border-color: transparent;\n",
              "      border-bottom-color: var(--fill-color);\n",
              "      border-left-color: var(--fill-color);\n",
              "    }\n",
              "    20% {\n",
              "      border-color: transparent;\n",
              "      border-left-color: var(--fill-color);\n",
              "      border-top-color: var(--fill-color);\n",
              "    }\n",
              "    30% {\n",
              "      border-color: transparent;\n",
              "      border-left-color: var(--fill-color);\n",
              "      border-top-color: var(--fill-color);\n",
              "      border-right-color: var(--fill-color);\n",
              "    }\n",
              "    40% {\n",
              "      border-color: transparent;\n",
              "      border-right-color: var(--fill-color);\n",
              "      border-top-color: var(--fill-color);\n",
              "    }\n",
              "    60% {\n",
              "      border-color: transparent;\n",
              "      border-right-color: var(--fill-color);\n",
              "    }\n",
              "    80% {\n",
              "      border-color: transparent;\n",
              "      border-right-color: var(--fill-color);\n",
              "      border-bottom-color: var(--fill-color);\n",
              "    }\n",
              "    90% {\n",
              "      border-color: transparent;\n",
              "      border-bottom-color: var(--fill-color);\n",
              "    }\n",
              "  }\n",
              "</style>\n",
              "\n",
              "      <script>\n",
              "        async function quickchart(key) {\n",
              "          const quickchartButtonEl =\n",
              "            document.querySelector('#' + key + ' button');\n",
              "          quickchartButtonEl.disabled = true;  // To prevent multiple clicks.\n",
              "          quickchartButtonEl.classList.add('colab-df-spinner');\n",
              "          try {\n",
              "            const charts = await google.colab.kernel.invokeFunction(\n",
              "                'suggestCharts', [key], {});\n",
              "          } catch (error) {\n",
              "            console.error('Error during call to suggestCharts:', error);\n",
              "          }\n",
              "          quickchartButtonEl.classList.remove('colab-df-spinner');\n",
              "          quickchartButtonEl.classList.add('colab-df-quickchart-complete');\n",
              "        }\n",
              "        (() => {\n",
              "          let quickchartButtonEl =\n",
              "            document.querySelector('#df-0b4c3f8a-5043-46df-a417-6b8f63612d9f button');\n",
              "          quickchartButtonEl.style.display =\n",
              "            google.colab.kernel.accessAllowed ? 'block' : 'none';\n",
              "        })();\n",
              "      </script>\n",
              "    </div>\n",
              "\n",
              "    </div>\n",
              "  </div>\n"
            ],
            "application/vnd.google.colaboratory.intrinsic+json": {
              "type": "dataframe",
              "summary": "{\n  \"name\": \"df\",\n  \"rows\": 4,\n  \"fields\": [\n    {\n      \"column\": \"headline\",\n      \"properties\": {\n        \"dtype\": \"string\",\n        \"num_unique_values\": 4,\n        \"samples\": [\n          19417,\n          \"4\",\n          \"21157\"\n        ],\n        \"semantic_type\": \"\",\n        \"description\": \"\"\n      }\n    },\n    {\n      \"column\": \"news\",\n      \"properties\": {\n        \"dtype\": \"string\",\n        \"num_unique_values\": 4,\n        \"samples\": [\n          19437,\n          \"4\",\n          \"21157\"\n        ],\n        \"semantic_type\": \"\",\n        \"description\": \"\"\n      }\n    }\n  ]\n}"
            }
          },
          "metadata": {},
          "execution_count": 5
        }
      ]
    },
    {
      "cell_type": "code",
      "source": [
        "'''Mengubah text menjadi lowercase, lalu menghilangkan simbol\n",
        "dan angka yang tidak diperlukan'''\n",
        "def clean_text(text):\n",
        "    text = text.lower()\n",
        "    text = re.sub(r\"[^a-zA-Z0-9\\s]\", \"\", text)\n",
        "    text = re.sub(r\"\\s+\", \" \", text).strip()\n",
        "    return text"
      ],
      "metadata": {
        "id": "jTZfTLBgNqdk"
      },
      "execution_count": null,
      "outputs": []
    },
    {
      "cell_type": "code",
      "source": [
        "'''Mengambil sample data secara acak dan melakukan cleaning'''\n",
        "df = df[['headline']].dropna()\n",
        "df_sample = df.sample(n=1500, random_state=42).reset_index(drop=True)\n",
        "df_sample['cleaned'] = df_sample['headline'].apply(clean_text)"
      ],
      "metadata": {
        "id": "xRqZnZCDNq6d"
      },
      "execution_count": null,
      "outputs": []
    },
    {
      "cell_type": "code",
      "source": [
        "df_sample = df_sample[['cleaned']]\n",
        "df_sample = df_sample[df_sample['cleaned'].str.len() > 20].reset_index(drop=True)"
      ],
      "metadata": {
        "id": "Gdax548RNsi2"
      },
      "execution_count": null,
      "outputs": []
    },
    {
      "cell_type": "code",
      "source": [
        "# Menyimpan hasil csv yang sudah dicleaning\n",
        "df_sample[['cleaned']].to_csv(\"cleaned_headlines.csv\", index=False)"
      ],
      "metadata": {
        "id": "6FEpELJtN6NN"
      },
      "execution_count": null,
      "outputs": []
    },
    {
      "cell_type": "markdown",
      "source": [
        "Dilakukan pembersihan data dengan mengubah kata yang ada menjadi lowercase, menghilangkan simbol, whitespace, extraspace, dan angka yang tidak diperlukan"
      ],
      "metadata": {
        "id": "iDxapMiIMKHH"
      }
    },
    {
      "cell_type": "markdown",
      "source": [
        "## Load dataset hasil cleaning"
      ],
      "metadata": {
        "id": "DLQM8g5VNcGJ"
      }
    },
    {
      "cell_type": "code",
      "execution_count": null,
      "metadata": {
        "colab": {
          "base_uri": "https://localhost:8080/"
        },
        "id": "cSxZvpmsO2Lc",
        "outputId": "2940eff8-fe84-4451-9913-090ac9054b14"
      },
      "outputs": [
        {
          "output_type": "stream",
          "name": "stdout",
          "text": [
            "Drive already mounted at /content/drive; to attempt to forcibly remount, call drive.mount(\"/content/drive\", force_remount=True).\n"
          ]
        }
      ],
      "source": [
        "# Load & Split Dataset\n",
        "drive.mount('/content/drive')\n",
        "df = pd.read_csv('/content/drive/MyDrive/Deep_learning_Tubes/cleaned_headline_data.csv')\n",
        "train_texts, test_texts = train_test_split(df['cleaned'].values, test_size=0.2, random_state=42)"
      ]
    },
    {
      "cell_type": "code",
      "source": [
        "df"
      ],
      "metadata": {
        "colab": {
          "base_uri": "https://localhost:8080/",
          "height": 424
        },
        "id": "t4iRIGXAb-XG",
        "outputId": "4e4d2230-c5a3-41e2-e475-d67c68c88cec"
      },
      "execution_count": null,
      "outputs": [
        {
          "output_type": "execute_result",
          "data": {
            "text/plain": [
              "                                                cleaned\n",
              "0     New energy law promises to revolutionize the e...\n",
              "1        Climate change continues to be a global threat\n",
              "2      Investors seek opportunities in renewable energy\n",
              "3                Demand for electric vehicles increases\n",
              "4     COVID-19 vaccines: When will we all be protected?\n",
              "...                                                 ...\n",
              "1320  The potential of renewable energy storage solu...\n",
              "1321  The benefits of eco-friendly landscaping pract...\n",
              "1322  The influence of digital platforms in advancin...\n",
              "1323  The role of sustainable packaging innovations ...\n",
              "1324  The impact of climate-positive investments on ...\n",
              "\n",
              "[1325 rows x 1 columns]"
            ],
            "text/html": [
              "\n",
              "  <div id=\"df-a233562d-3444-4397-b20b-5f506267cd11\" class=\"colab-df-container\">\n",
              "    <div>\n",
              "<style scoped>\n",
              "    .dataframe tbody tr th:only-of-type {\n",
              "        vertical-align: middle;\n",
              "    }\n",
              "\n",
              "    .dataframe tbody tr th {\n",
              "        vertical-align: top;\n",
              "    }\n",
              "\n",
              "    .dataframe thead th {\n",
              "        text-align: right;\n",
              "    }\n",
              "</style>\n",
              "<table border=\"1\" class=\"dataframe\">\n",
              "  <thead>\n",
              "    <tr style=\"text-align: right;\">\n",
              "      <th></th>\n",
              "      <th>cleaned</th>\n",
              "    </tr>\n",
              "  </thead>\n",
              "  <tbody>\n",
              "    <tr>\n",
              "      <th>0</th>\n",
              "      <td>New energy law promises to revolutionize the e...</td>\n",
              "    </tr>\n",
              "    <tr>\n",
              "      <th>1</th>\n",
              "      <td>Climate change continues to be a global threat</td>\n",
              "    </tr>\n",
              "    <tr>\n",
              "      <th>2</th>\n",
              "      <td>Investors seek opportunities in renewable energy</td>\n",
              "    </tr>\n",
              "    <tr>\n",
              "      <th>3</th>\n",
              "      <td>Demand for electric vehicles increases</td>\n",
              "    </tr>\n",
              "    <tr>\n",
              "      <th>4</th>\n",
              "      <td>COVID-19 vaccines: When will we all be protected?</td>\n",
              "    </tr>\n",
              "    <tr>\n",
              "      <th>...</th>\n",
              "      <td>...</td>\n",
              "    </tr>\n",
              "    <tr>\n",
              "      <th>1320</th>\n",
              "      <td>The potential of renewable energy storage solu...</td>\n",
              "    </tr>\n",
              "    <tr>\n",
              "      <th>1321</th>\n",
              "      <td>The benefits of eco-friendly landscaping pract...</td>\n",
              "    </tr>\n",
              "    <tr>\n",
              "      <th>1322</th>\n",
              "      <td>The influence of digital platforms in advancin...</td>\n",
              "    </tr>\n",
              "    <tr>\n",
              "      <th>1323</th>\n",
              "      <td>The role of sustainable packaging innovations ...</td>\n",
              "    </tr>\n",
              "    <tr>\n",
              "      <th>1324</th>\n",
              "      <td>The impact of climate-positive investments on ...</td>\n",
              "    </tr>\n",
              "  </tbody>\n",
              "</table>\n",
              "<p>1325 rows × 1 columns</p>\n",
              "</div>\n",
              "    <div class=\"colab-df-buttons\">\n",
              "\n",
              "  <div class=\"colab-df-container\">\n",
              "    <button class=\"colab-df-convert\" onclick=\"convertToInteractive('df-a233562d-3444-4397-b20b-5f506267cd11')\"\n",
              "            title=\"Convert this dataframe to an interactive table.\"\n",
              "            style=\"display:none;\">\n",
              "\n",
              "  <svg xmlns=\"http://www.w3.org/2000/svg\" height=\"24px\" viewBox=\"0 -960 960 960\">\n",
              "    <path d=\"M120-120v-720h720v720H120Zm60-500h600v-160H180v160Zm220 220h160v-160H400v160Zm0 220h160v-160H400v160ZM180-400h160v-160H180v160Zm440 0h160v-160H620v160ZM180-180h160v-160H180v160Zm440 0h160v-160H620v160Z\"/>\n",
              "  </svg>\n",
              "    </button>\n",
              "\n",
              "  <style>\n",
              "    .colab-df-container {\n",
              "      display:flex;\n",
              "      gap: 12px;\n",
              "    }\n",
              "\n",
              "    .colab-df-convert {\n",
              "      background-color: #E8F0FE;\n",
              "      border: none;\n",
              "      border-radius: 50%;\n",
              "      cursor: pointer;\n",
              "      display: none;\n",
              "      fill: #1967D2;\n",
              "      height: 32px;\n",
              "      padding: 0 0 0 0;\n",
              "      width: 32px;\n",
              "    }\n",
              "\n",
              "    .colab-df-convert:hover {\n",
              "      background-color: #E2EBFA;\n",
              "      box-shadow: 0px 1px 2px rgba(60, 64, 67, 0.3), 0px 1px 3px 1px rgba(60, 64, 67, 0.15);\n",
              "      fill: #174EA6;\n",
              "    }\n",
              "\n",
              "    .colab-df-buttons div {\n",
              "      margin-bottom: 4px;\n",
              "    }\n",
              "\n",
              "    [theme=dark] .colab-df-convert {\n",
              "      background-color: #3B4455;\n",
              "      fill: #D2E3FC;\n",
              "    }\n",
              "\n",
              "    [theme=dark] .colab-df-convert:hover {\n",
              "      background-color: #434B5C;\n",
              "      box-shadow: 0px 1px 3px 1px rgba(0, 0, 0, 0.15);\n",
              "      filter: drop-shadow(0px 1px 2px rgba(0, 0, 0, 0.3));\n",
              "      fill: #FFFFFF;\n",
              "    }\n",
              "  </style>\n",
              "\n",
              "    <script>\n",
              "      const buttonEl =\n",
              "        document.querySelector('#df-a233562d-3444-4397-b20b-5f506267cd11 button.colab-df-convert');\n",
              "      buttonEl.style.display =\n",
              "        google.colab.kernel.accessAllowed ? 'block' : 'none';\n",
              "\n",
              "      async function convertToInteractive(key) {\n",
              "        const element = document.querySelector('#df-a233562d-3444-4397-b20b-5f506267cd11');\n",
              "        const dataTable =\n",
              "          await google.colab.kernel.invokeFunction('convertToInteractive',\n",
              "                                                    [key], {});\n",
              "        if (!dataTable) return;\n",
              "\n",
              "        const docLinkHtml = 'Like what you see? Visit the ' +\n",
              "          '<a target=\"_blank\" href=https://colab.research.google.com/notebooks/data_table.ipynb>data table notebook</a>'\n",
              "          + ' to learn more about interactive tables.';\n",
              "        element.innerHTML = '';\n",
              "        dataTable['output_type'] = 'display_data';\n",
              "        await google.colab.output.renderOutput(dataTable, element);\n",
              "        const docLink = document.createElement('div');\n",
              "        docLink.innerHTML = docLinkHtml;\n",
              "        element.appendChild(docLink);\n",
              "      }\n",
              "    </script>\n",
              "  </div>\n",
              "\n",
              "\n",
              "    <div id=\"df-abaec48e-a6ed-44f7-aae8-7184b7e11d2d\">\n",
              "      <button class=\"colab-df-quickchart\" onclick=\"quickchart('df-abaec48e-a6ed-44f7-aae8-7184b7e11d2d')\"\n",
              "                title=\"Suggest charts\"\n",
              "                style=\"display:none;\">\n",
              "\n",
              "<svg xmlns=\"http://www.w3.org/2000/svg\" height=\"24px\"viewBox=\"0 0 24 24\"\n",
              "     width=\"24px\">\n",
              "    <g>\n",
              "        <path d=\"M19 3H5c-1.1 0-2 .9-2 2v14c0 1.1.9 2 2 2h14c1.1 0 2-.9 2-2V5c0-1.1-.9-2-2-2zM9 17H7v-7h2v7zm4 0h-2V7h2v10zm4 0h-2v-4h2v4z\"/>\n",
              "    </g>\n",
              "</svg>\n",
              "      </button>\n",
              "\n",
              "<style>\n",
              "  .colab-df-quickchart {\n",
              "      --bg-color: #E8F0FE;\n",
              "      --fill-color: #1967D2;\n",
              "      --hover-bg-color: #E2EBFA;\n",
              "      --hover-fill-color: #174EA6;\n",
              "      --disabled-fill-color: #AAA;\n",
              "      --disabled-bg-color: #DDD;\n",
              "  }\n",
              "\n",
              "  [theme=dark] .colab-df-quickchart {\n",
              "      --bg-color: #3B4455;\n",
              "      --fill-color: #D2E3FC;\n",
              "      --hover-bg-color: #434B5C;\n",
              "      --hover-fill-color: #FFFFFF;\n",
              "      --disabled-bg-color: #3B4455;\n",
              "      --disabled-fill-color: #666;\n",
              "  }\n",
              "\n",
              "  .colab-df-quickchart {\n",
              "    background-color: var(--bg-color);\n",
              "    border: none;\n",
              "    border-radius: 50%;\n",
              "    cursor: pointer;\n",
              "    display: none;\n",
              "    fill: var(--fill-color);\n",
              "    height: 32px;\n",
              "    padding: 0;\n",
              "    width: 32px;\n",
              "  }\n",
              "\n",
              "  .colab-df-quickchart:hover {\n",
              "    background-color: var(--hover-bg-color);\n",
              "    box-shadow: 0 1px 2px rgba(60, 64, 67, 0.3), 0 1px 3px 1px rgba(60, 64, 67, 0.15);\n",
              "    fill: var(--button-hover-fill-color);\n",
              "  }\n",
              "\n",
              "  .colab-df-quickchart-complete:disabled,\n",
              "  .colab-df-quickchart-complete:disabled:hover {\n",
              "    background-color: var(--disabled-bg-color);\n",
              "    fill: var(--disabled-fill-color);\n",
              "    box-shadow: none;\n",
              "  }\n",
              "\n",
              "  .colab-df-spinner {\n",
              "    border: 2px solid var(--fill-color);\n",
              "    border-color: transparent;\n",
              "    border-bottom-color: var(--fill-color);\n",
              "    animation:\n",
              "      spin 1s steps(1) infinite;\n",
              "  }\n",
              "\n",
              "  @keyframes spin {\n",
              "    0% {\n",
              "      border-color: transparent;\n",
              "      border-bottom-color: var(--fill-color);\n",
              "      border-left-color: var(--fill-color);\n",
              "    }\n",
              "    20% {\n",
              "      border-color: transparent;\n",
              "      border-left-color: var(--fill-color);\n",
              "      border-top-color: var(--fill-color);\n",
              "    }\n",
              "    30% {\n",
              "      border-color: transparent;\n",
              "      border-left-color: var(--fill-color);\n",
              "      border-top-color: var(--fill-color);\n",
              "      border-right-color: var(--fill-color);\n",
              "    }\n",
              "    40% {\n",
              "      border-color: transparent;\n",
              "      border-right-color: var(--fill-color);\n",
              "      border-top-color: var(--fill-color);\n",
              "    }\n",
              "    60% {\n",
              "      border-color: transparent;\n",
              "      border-right-color: var(--fill-color);\n",
              "    }\n",
              "    80% {\n",
              "      border-color: transparent;\n",
              "      border-right-color: var(--fill-color);\n",
              "      border-bottom-color: var(--fill-color);\n",
              "    }\n",
              "    90% {\n",
              "      border-color: transparent;\n",
              "      border-bottom-color: var(--fill-color);\n",
              "    }\n",
              "  }\n",
              "</style>\n",
              "\n",
              "      <script>\n",
              "        async function quickchart(key) {\n",
              "          const quickchartButtonEl =\n",
              "            document.querySelector('#' + key + ' button');\n",
              "          quickchartButtonEl.disabled = true;  // To prevent multiple clicks.\n",
              "          quickchartButtonEl.classList.add('colab-df-spinner');\n",
              "          try {\n",
              "            const charts = await google.colab.kernel.invokeFunction(\n",
              "                'suggestCharts', [key], {});\n",
              "          } catch (error) {\n",
              "            console.error('Error during call to suggestCharts:', error);\n",
              "          }\n",
              "          quickchartButtonEl.classList.remove('colab-df-spinner');\n",
              "          quickchartButtonEl.classList.add('colab-df-quickchart-complete');\n",
              "        }\n",
              "        (() => {\n",
              "          let quickchartButtonEl =\n",
              "            document.querySelector('#df-abaec48e-a6ed-44f7-aae8-7184b7e11d2d button');\n",
              "          quickchartButtonEl.style.display =\n",
              "            google.colab.kernel.accessAllowed ? 'block' : 'none';\n",
              "        })();\n",
              "      </script>\n",
              "    </div>\n",
              "\n",
              "  <div id=\"id_bdf2aeb2-317d-4a7b-9e72-b14e86ef69de\">\n",
              "    <style>\n",
              "      .colab-df-generate {\n",
              "        background-color: #E8F0FE;\n",
              "        border: none;\n",
              "        border-radius: 50%;\n",
              "        cursor: pointer;\n",
              "        display: none;\n",
              "        fill: #1967D2;\n",
              "        height: 32px;\n",
              "        padding: 0 0 0 0;\n",
              "        width: 32px;\n",
              "      }\n",
              "\n",
              "      .colab-df-generate:hover {\n",
              "        background-color: #E2EBFA;\n",
              "        box-shadow: 0px 1px 2px rgba(60, 64, 67, 0.3), 0px 1px 3px 1px rgba(60, 64, 67, 0.15);\n",
              "        fill: #174EA6;\n",
              "      }\n",
              "\n",
              "      [theme=dark] .colab-df-generate {\n",
              "        background-color: #3B4455;\n",
              "        fill: #D2E3FC;\n",
              "      }\n",
              "\n",
              "      [theme=dark] .colab-df-generate:hover {\n",
              "        background-color: #434B5C;\n",
              "        box-shadow: 0px 1px 3px 1px rgba(0, 0, 0, 0.15);\n",
              "        filter: drop-shadow(0px 1px 2px rgba(0, 0, 0, 0.3));\n",
              "        fill: #FFFFFF;\n",
              "      }\n",
              "    </style>\n",
              "    <button class=\"colab-df-generate\" onclick=\"generateWithVariable('df')\"\n",
              "            title=\"Generate code using this dataframe.\"\n",
              "            style=\"display:none;\">\n",
              "\n",
              "  <svg xmlns=\"http://www.w3.org/2000/svg\" height=\"24px\"viewBox=\"0 0 24 24\"\n",
              "       width=\"24px\">\n",
              "    <path d=\"M7,19H8.4L18.45,9,17,7.55,7,17.6ZM5,21V16.75L18.45,3.32a2,2,0,0,1,2.83,0l1.4,1.43a1.91,1.91,0,0,1,.58,1.4,1.91,1.91,0,0,1-.58,1.4L9.25,21ZM18.45,9,17,7.55Zm-12,3A5.31,5.31,0,0,0,4.9,8.1,5.31,5.31,0,0,0,1,6.5,5.31,5.31,0,0,0,4.9,4.9,5.31,5.31,0,0,0,6.5,1,5.31,5.31,0,0,0,8.1,4.9,5.31,5.31,0,0,0,12,6.5,5.46,5.46,0,0,0,6.5,12Z\"/>\n",
              "  </svg>\n",
              "    </button>\n",
              "    <script>\n",
              "      (() => {\n",
              "      const buttonEl =\n",
              "        document.querySelector('#id_bdf2aeb2-317d-4a7b-9e72-b14e86ef69de button.colab-df-generate');\n",
              "      buttonEl.style.display =\n",
              "        google.colab.kernel.accessAllowed ? 'block' : 'none';\n",
              "\n",
              "      buttonEl.onclick = () => {\n",
              "        google.colab.notebook.generateWithVariable('df');\n",
              "      }\n",
              "      })();\n",
              "    </script>\n",
              "  </div>\n",
              "\n",
              "    </div>\n",
              "  </div>\n"
            ],
            "application/vnd.google.colaboratory.intrinsic+json": {
              "type": "dataframe",
              "variable_name": "df",
              "summary": "{\n  \"name\": \"df\",\n  \"rows\": 1325,\n  \"fields\": [\n    {\n      \"column\": \"cleaned\",\n      \"properties\": {\n        \"dtype\": \"string\",\n        \"num_unique_values\": 1202,\n        \"samples\": [\n          \"The benefits of green roofs and walls in enhancing urban biodiversity.\",\n          \"The importance of cybersecurity education for users\",\n          \"Investors seek opportunities in clean energy\"\n        ],\n        \"semantic_type\": \"\",\n        \"description\": \"\"\n      }\n    }\n  ]\n}"
            }
          },
          "metadata": {},
          "execution_count": 5
        }
      ]
    },
    {
      "cell_type": "code",
      "source": [
        "df.describe()"
      ],
      "metadata": {
        "colab": {
          "base_uri": "https://localhost:8080/",
          "height": 175
        },
        "id": "3EEk2hx4cMAR",
        "outputId": "a1a8342c-8a03-4a46-efc0-bab43c6813cb"
      },
      "execution_count": null,
      "outputs": [
        {
          "output_type": "execute_result",
          "data": {
            "text/plain": [
              "                                                 cleaned\n",
              "count                                               1325\n",
              "unique                                              1202\n",
              "top     Threats and Challenges in a Hyperconnected World\n",
              "freq                                                   6"
            ],
            "text/html": [
              "\n",
              "  <div id=\"df-cdeb5f6d-fb8f-4a71-a2c7-bbd54addc5bd\" class=\"colab-df-container\">\n",
              "    <div>\n",
              "<style scoped>\n",
              "    .dataframe tbody tr th:only-of-type {\n",
              "        vertical-align: middle;\n",
              "    }\n",
              "\n",
              "    .dataframe tbody tr th {\n",
              "        vertical-align: top;\n",
              "    }\n",
              "\n",
              "    .dataframe thead th {\n",
              "        text-align: right;\n",
              "    }\n",
              "</style>\n",
              "<table border=\"1\" class=\"dataframe\">\n",
              "  <thead>\n",
              "    <tr style=\"text-align: right;\">\n",
              "      <th></th>\n",
              "      <th>cleaned</th>\n",
              "    </tr>\n",
              "  </thead>\n",
              "  <tbody>\n",
              "    <tr>\n",
              "      <th>count</th>\n",
              "      <td>1325</td>\n",
              "    </tr>\n",
              "    <tr>\n",
              "      <th>unique</th>\n",
              "      <td>1202</td>\n",
              "    </tr>\n",
              "    <tr>\n",
              "      <th>top</th>\n",
              "      <td>Threats and Challenges in a Hyperconnected World</td>\n",
              "    </tr>\n",
              "    <tr>\n",
              "      <th>freq</th>\n",
              "      <td>6</td>\n",
              "    </tr>\n",
              "  </tbody>\n",
              "</table>\n",
              "</div>\n",
              "    <div class=\"colab-df-buttons\">\n",
              "\n",
              "  <div class=\"colab-df-container\">\n",
              "    <button class=\"colab-df-convert\" onclick=\"convertToInteractive('df-cdeb5f6d-fb8f-4a71-a2c7-bbd54addc5bd')\"\n",
              "            title=\"Convert this dataframe to an interactive table.\"\n",
              "            style=\"display:none;\">\n",
              "\n",
              "  <svg xmlns=\"http://www.w3.org/2000/svg\" height=\"24px\" viewBox=\"0 -960 960 960\">\n",
              "    <path d=\"M120-120v-720h720v720H120Zm60-500h600v-160H180v160Zm220 220h160v-160H400v160Zm0 220h160v-160H400v160ZM180-400h160v-160H180v160Zm440 0h160v-160H620v160ZM180-180h160v-160H180v160Zm440 0h160v-160H620v160Z\"/>\n",
              "  </svg>\n",
              "    </button>\n",
              "\n",
              "  <style>\n",
              "    .colab-df-container {\n",
              "      display:flex;\n",
              "      gap: 12px;\n",
              "    }\n",
              "\n",
              "    .colab-df-convert {\n",
              "      background-color: #E8F0FE;\n",
              "      border: none;\n",
              "      border-radius: 50%;\n",
              "      cursor: pointer;\n",
              "      display: none;\n",
              "      fill: #1967D2;\n",
              "      height: 32px;\n",
              "      padding: 0 0 0 0;\n",
              "      width: 32px;\n",
              "    }\n",
              "\n",
              "    .colab-df-convert:hover {\n",
              "      background-color: #E2EBFA;\n",
              "      box-shadow: 0px 1px 2px rgba(60, 64, 67, 0.3), 0px 1px 3px 1px rgba(60, 64, 67, 0.15);\n",
              "      fill: #174EA6;\n",
              "    }\n",
              "\n",
              "    .colab-df-buttons div {\n",
              "      margin-bottom: 4px;\n",
              "    }\n",
              "\n",
              "    [theme=dark] .colab-df-convert {\n",
              "      background-color: #3B4455;\n",
              "      fill: #D2E3FC;\n",
              "    }\n",
              "\n",
              "    [theme=dark] .colab-df-convert:hover {\n",
              "      background-color: #434B5C;\n",
              "      box-shadow: 0px 1px 3px 1px rgba(0, 0, 0, 0.15);\n",
              "      filter: drop-shadow(0px 1px 2px rgba(0, 0, 0, 0.3));\n",
              "      fill: #FFFFFF;\n",
              "    }\n",
              "  </style>\n",
              "\n",
              "    <script>\n",
              "      const buttonEl =\n",
              "        document.querySelector('#df-cdeb5f6d-fb8f-4a71-a2c7-bbd54addc5bd button.colab-df-convert');\n",
              "      buttonEl.style.display =\n",
              "        google.colab.kernel.accessAllowed ? 'block' : 'none';\n",
              "\n",
              "      async function convertToInteractive(key) {\n",
              "        const element = document.querySelector('#df-cdeb5f6d-fb8f-4a71-a2c7-bbd54addc5bd');\n",
              "        const dataTable =\n",
              "          await google.colab.kernel.invokeFunction('convertToInteractive',\n",
              "                                                    [key], {});\n",
              "        if (!dataTable) return;\n",
              "\n",
              "        const docLinkHtml = 'Like what you see? Visit the ' +\n",
              "          '<a target=\"_blank\" href=https://colab.research.google.com/notebooks/data_table.ipynb>data table notebook</a>'\n",
              "          + ' to learn more about interactive tables.';\n",
              "        element.innerHTML = '';\n",
              "        dataTable['output_type'] = 'display_data';\n",
              "        await google.colab.output.renderOutput(dataTable, element);\n",
              "        const docLink = document.createElement('div');\n",
              "        docLink.innerHTML = docLinkHtml;\n",
              "        element.appendChild(docLink);\n",
              "      }\n",
              "    </script>\n",
              "  </div>\n",
              "\n",
              "\n",
              "    <div id=\"df-39871678-7dcb-4a23-94b5-ea26b3409962\">\n",
              "      <button class=\"colab-df-quickchart\" onclick=\"quickchart('df-39871678-7dcb-4a23-94b5-ea26b3409962')\"\n",
              "                title=\"Suggest charts\"\n",
              "                style=\"display:none;\">\n",
              "\n",
              "<svg xmlns=\"http://www.w3.org/2000/svg\" height=\"24px\"viewBox=\"0 0 24 24\"\n",
              "     width=\"24px\">\n",
              "    <g>\n",
              "        <path d=\"M19 3H5c-1.1 0-2 .9-2 2v14c0 1.1.9 2 2 2h14c1.1 0 2-.9 2-2V5c0-1.1-.9-2-2-2zM9 17H7v-7h2v7zm4 0h-2V7h2v10zm4 0h-2v-4h2v4z\"/>\n",
              "    </g>\n",
              "</svg>\n",
              "      </button>\n",
              "\n",
              "<style>\n",
              "  .colab-df-quickchart {\n",
              "      --bg-color: #E8F0FE;\n",
              "      --fill-color: #1967D2;\n",
              "      --hover-bg-color: #E2EBFA;\n",
              "      --hover-fill-color: #174EA6;\n",
              "      --disabled-fill-color: #AAA;\n",
              "      --disabled-bg-color: #DDD;\n",
              "  }\n",
              "\n",
              "  [theme=dark] .colab-df-quickchart {\n",
              "      --bg-color: #3B4455;\n",
              "      --fill-color: #D2E3FC;\n",
              "      --hover-bg-color: #434B5C;\n",
              "      --hover-fill-color: #FFFFFF;\n",
              "      --disabled-bg-color: #3B4455;\n",
              "      --disabled-fill-color: #666;\n",
              "  }\n",
              "\n",
              "  .colab-df-quickchart {\n",
              "    background-color: var(--bg-color);\n",
              "    border: none;\n",
              "    border-radius: 50%;\n",
              "    cursor: pointer;\n",
              "    display: none;\n",
              "    fill: var(--fill-color);\n",
              "    height: 32px;\n",
              "    padding: 0;\n",
              "    width: 32px;\n",
              "  }\n",
              "\n",
              "  .colab-df-quickchart:hover {\n",
              "    background-color: var(--hover-bg-color);\n",
              "    box-shadow: 0 1px 2px rgba(60, 64, 67, 0.3), 0 1px 3px 1px rgba(60, 64, 67, 0.15);\n",
              "    fill: var(--button-hover-fill-color);\n",
              "  }\n",
              "\n",
              "  .colab-df-quickchart-complete:disabled,\n",
              "  .colab-df-quickchart-complete:disabled:hover {\n",
              "    background-color: var(--disabled-bg-color);\n",
              "    fill: var(--disabled-fill-color);\n",
              "    box-shadow: none;\n",
              "  }\n",
              "\n",
              "  .colab-df-spinner {\n",
              "    border: 2px solid var(--fill-color);\n",
              "    border-color: transparent;\n",
              "    border-bottom-color: var(--fill-color);\n",
              "    animation:\n",
              "      spin 1s steps(1) infinite;\n",
              "  }\n",
              "\n",
              "  @keyframes spin {\n",
              "    0% {\n",
              "      border-color: transparent;\n",
              "      border-bottom-color: var(--fill-color);\n",
              "      border-left-color: var(--fill-color);\n",
              "    }\n",
              "    20% {\n",
              "      border-color: transparent;\n",
              "      border-left-color: var(--fill-color);\n",
              "      border-top-color: var(--fill-color);\n",
              "    }\n",
              "    30% {\n",
              "      border-color: transparent;\n",
              "      border-left-color: var(--fill-color);\n",
              "      border-top-color: var(--fill-color);\n",
              "      border-right-color: var(--fill-color);\n",
              "    }\n",
              "    40% {\n",
              "      border-color: transparent;\n",
              "      border-right-color: var(--fill-color);\n",
              "      border-top-color: var(--fill-color);\n",
              "    }\n",
              "    60% {\n",
              "      border-color: transparent;\n",
              "      border-right-color: var(--fill-color);\n",
              "    }\n",
              "    80% {\n",
              "      border-color: transparent;\n",
              "      border-right-color: var(--fill-color);\n",
              "      border-bottom-color: var(--fill-color);\n",
              "    }\n",
              "    90% {\n",
              "      border-color: transparent;\n",
              "      border-bottom-color: var(--fill-color);\n",
              "    }\n",
              "  }\n",
              "</style>\n",
              "\n",
              "      <script>\n",
              "        async function quickchart(key) {\n",
              "          const quickchartButtonEl =\n",
              "            document.querySelector('#' + key + ' button');\n",
              "          quickchartButtonEl.disabled = true;  // To prevent multiple clicks.\n",
              "          quickchartButtonEl.classList.add('colab-df-spinner');\n",
              "          try {\n",
              "            const charts = await google.colab.kernel.invokeFunction(\n",
              "                'suggestCharts', [key], {});\n",
              "          } catch (error) {\n",
              "            console.error('Error during call to suggestCharts:', error);\n",
              "          }\n",
              "          quickchartButtonEl.classList.remove('colab-df-spinner');\n",
              "          quickchartButtonEl.classList.add('colab-df-quickchart-complete');\n",
              "        }\n",
              "        (() => {\n",
              "          let quickchartButtonEl =\n",
              "            document.querySelector('#df-39871678-7dcb-4a23-94b5-ea26b3409962 button');\n",
              "          quickchartButtonEl.style.display =\n",
              "            google.colab.kernel.accessAllowed ? 'block' : 'none';\n",
              "        })();\n",
              "      </script>\n",
              "    </div>\n",
              "\n",
              "    </div>\n",
              "  </div>\n"
            ],
            "application/vnd.google.colaboratory.intrinsic+json": {
              "type": "dataframe",
              "summary": "{\n  \"name\": \"df\",\n  \"rows\": 4,\n  \"fields\": [\n    {\n      \"column\": \"cleaned\",\n      \"properties\": {\n        \"dtype\": \"string\",\n        \"num_unique_values\": 4,\n        \"samples\": [\n          1202,\n          \"6\",\n          \"1325\"\n        ],\n        \"semantic_type\": \"\",\n        \"description\": \"\"\n      }\n    }\n  ]\n}"
            }
          },
          "metadata": {},
          "execution_count": 6
        }
      ]
    },
    {
      "cell_type": "code",
      "source": [
        "len(df)"
      ],
      "metadata": {
        "colab": {
          "base_uri": "https://localhost:8080/"
        },
        "id": "0yyBjz59eCS4",
        "outputId": "96df15fd-8e13-4197-8bd9-8b7f305d37cc"
      },
      "execution_count": null,
      "outputs": [
        {
          "output_type": "execute_result",
          "data": {
            "text/plain": [
              "1325"
            ]
          },
          "metadata": {},
          "execution_count": 8
        }
      ]
    },
    {
      "cell_type": "code",
      "source": [
        "len(train_texts)"
      ],
      "metadata": {
        "id": "Oj1G9AbzeXYn",
        "outputId": "ac2b16a5-1efe-4ade-ff53-21eaec1a1c7e",
        "colab": {
          "base_uri": "https://localhost:8080/"
        }
      },
      "execution_count": null,
      "outputs": [
        {
          "output_type": "execute_result",
          "data": {
            "text/plain": [
              "1060"
            ]
          },
          "metadata": {},
          "execution_count": 26
        }
      ]
    },
    {
      "cell_type": "code",
      "source": [
        "\n",
        "len(test_texts)"
      ],
      "metadata": {
        "colab": {
          "base_uri": "https://localhost:8080/"
        },
        "id": "HfAc4uPOeQK5",
        "outputId": "b1b10c82-b126-489b-f9a7-98a99e9bd082"
      },
      "execution_count": null,
      "outputs": [
        {
          "output_type": "execute_result",
          "data": {
            "text/plain": [
              "265"
            ]
          },
          "metadata": {},
          "execution_count": 10
        }
      ]
    },
    {
      "cell_type": "markdown",
      "source": [
        "Loading dataset dilakukan untuk mempermudah pengambilan data"
      ],
      "metadata": {
        "id": "gKHQYyfoL1SJ"
      }
    },
    {
      "cell_type": "markdown",
      "source": [
        "#Tokenization"
      ],
      "metadata": {
        "id": "RADgJyqlGqiY"
      }
    },
    {
      "cell_type": "code",
      "source": [
        "#  Tokenization Layer\n",
        "tokenizer = BertTokenizerFast.from_pretrained(\"bert-base-uncased\")\n",
        "\n",
        "sequence_length = 64\n",
        "embedding_dim = 128\n",
        "vocab_size = tokenizer.vocab_size"
      ],
      "metadata": {
        "id": "E6pYMtwIRgKx"
      },
      "execution_count": null,
      "outputs": []
    },
    {
      "cell_type": "code",
      "source": [
        "# Tokenisasi untuk Language Modeling\n",
        "def tokenize_lm(texts):\n",
        "    encodings = tokenizer(\n",
        "        list(texts),\n",
        "        padding='max_length',\n",
        "        truncation=True,\n",
        "        max_length=sequence_length,\n",
        "        return_tensors='tf'\n",
        "    )\n",
        "    input_ids = encodings['input_ids']\n",
        "    return input_ids[:, :-1], input_ids[:, 1:]\n",
        "\n",
        "# Buat Dataset\n",
        "def make_dataset(text_array):\n",
        "    x, y = tokenize_lm(text_array)\n",
        "    ds = tf.data.Dataset.from_tensor_slices((x, y))\n",
        "    return ds.batch(64).prefetch(tf.data.AUTOTUNE)\n",
        "\n",
        "# Dataset untuk training dan testing\n",
        "train_ds = make_dataset(train_texts)\n",
        "test_ds = make_dataset(test_texts)\n"
      ],
      "metadata": {
        "id": "9wxGEvM4Rv8h"
      },
      "execution_count": null,
      "outputs": []
    },
    {
      "cell_type": "markdown",
      "source": [
        "Digunakan tokenizer dari huggingface dengan bert tokenizer untuk vocabulary. Isi dari tokenizer ini dapat digunakan untuk memprediksi kata\n",
        "selanjutnya. Alasan pemilihan tokenizer ini adalah sudah banyak dipakai, kompatibel dengan\n",
        "model yang dibuat, serta sesuai dengan task yang diperlukan untuk generate headline.  "
      ],
      "metadata": {
        "id": "BVxgGSImM5kX"
      }
    },
    {
      "cell_type": "markdown",
      "source": [
        "# Model awal"
      ],
      "metadata": {
        "id": "MzEOefA8Of1G"
      }
    },
    {
      "cell_type": "code",
      "source": [
        "# Hyperparameter\n",
        "sequence_length = 64\n",
        "embedding_dim = 128\n",
        "\n",
        "num_heads = 4\n",
        "ff_dim = 128\n",
        "batch_size = 32\n",
        "epochs = 10\n",
        "\n",
        "tokenizer = BertTokenizerFast.from_pretrained(\"bert-base-uncased\")\n",
        "vocab_size = tokenizer.vocab_size\n",
        "sequence_length = 64\n",
        "\n",
        "def tokenize_and_shift(texts):\n",
        "    encodings = tokenizer(\n",
        "        list(texts),\n",
        "        padding=\"max_length\",\n",
        "        truncation=True,\n",
        "        max_length=sequence_length,\n",
        "        return_tensors=\"tf\"\n",
        "    )\n",
        "    input_ids = encodings[\"input_ids\"]\n",
        "    labels = tf.concat([input_ids[:, 1:], tf.constant(tokenizer.pad_token_id, shape=(input_ids.shape[0], 1))], axis=-1)\n",
        "    return input_ids, labels\n",
        "\n",
        "# Buat Dataset\n",
        "def make_dataset(text_array):\n",
        "    x, y = tokenize_and_shift(text_array)\n",
        "    ds = tf.data.Dataset.from_tensor_slices((x, y))\n",
        "    return ds.batch(64).prefetch(tf.data.AUTOTUNE)\n",
        "\n",
        "# Dataset untuk training dan testing\n",
        "train_ds = make_dataset(train_texts)\n",
        "test_ds = make_dataset(test_texts)"
      ],
      "metadata": {
        "id": "2b65q49tOiR_"
      },
      "execution_count": null,
      "outputs": []
    },
    {
      "cell_type": "code",
      "source": [
        "def causal_attention_mask(batch_size, n_dest, n_src, dtype):\n",
        "    i = tf.range(n_dest)[:, None]\n",
        "    j = tf.range(n_src)\n",
        "    m = i >= j - n_src + n_dest\n",
        "    mask = tf.cast(m, dtype)\n",
        "    mask = tf.reshape(mask, [1, n_dest, n_src])\n",
        "    mult = tf.concat([tf.expand_dims(batch_size, -1), tf.constant([1, 1], dtype=tf.int32)], 0)\n",
        "    return tf.tile(mask, mult)"
      ],
      "metadata": {
        "id": "-1sn5CKgihh9"
      },
      "execution_count": null,
      "outputs": []
    },
    {
      "cell_type": "code",
      "source": [
        "class TokenAndPositionEmbedding(layers.Layer):\n",
        "    def __init__(self, maxlen, vocab_size, embed_dim):\n",
        "        super().__init__()\n",
        "        self.token_emb = layers.Embedding(input_dim=vocab_size, output_dim=embed_dim)\n",
        "        self.pos_emb = layers.Embedding(input_dim=maxlen, output_dim=embed_dim)\n",
        "\n",
        "    def call(self, x):\n",
        "        maxlen = tf.shape(x)[-1]\n",
        "        positions = tf.range(start=0, limit=maxlen, delta=1)\n",
        "        positions = self.pos_emb(positions)\n",
        "        x = self.token_emb(x)\n",
        "        return x + positions"
      ],
      "metadata": {
        "id": "VY1XPERjhtyt"
      },
      "execution_count": null,
      "outputs": []
    },
    {
      "cell_type": "code",
      "source": [
        "class DecoderOnlyTransformerBlock(layers.Layer):\n",
        "    def __init__(self, embed_dim, num_heads, ff_dim, rate=0.1):\n",
        "        super().__init__()\n",
        "        self.att = layers.MultiHeadAttention(num_heads=num_heads, key_dim=embed_dim)\n",
        "        self.ffn = keras.Sequential([\n",
        "            layers.Dense(ff_dim, activation=\"relu\"),\n",
        "            layers.Dense(embed_dim),\n",
        "        ])\n",
        "        self.layernorm1 = layers.LayerNormalization(epsilon=1e-6)\n",
        "        self.layernorm2 = layers.LayerNormalization(epsilon=1e-6)\n",
        "        self.dropout1 = layers.Dropout(rate)\n",
        "        self.dropout2 = layers.Dropout(rate)\n",
        "\n",
        "    def call(self, inputs, training=None):\n",
        "        batch_size = tf.shape(inputs)[0]\n",
        "        seq_len = tf.shape(inputs)[1]\n",
        "        causal_mask = causal_attention_mask(batch_size, seq_len, seq_len, tf.bool)\n",
        "        attn_output = self.att(inputs, inputs, attention_mask=causal_mask)\n",
        "        attn_output = self.dropout1(attn_output, training=training)\n",
        "        out1 = self.layernorm1(inputs + attn_output)\n",
        "        ffn_output = self.ffn(out1)\n",
        "        ffn_output = self.dropout2(ffn_output, training=training)\n",
        "        return self.layernorm2(out1 + ffn_output)"
      ],
      "metadata": {
        "id": "Xgd5uBXAhxQQ"
      },
      "execution_count": null,
      "outputs": []
    },
    {
      "cell_type": "code",
      "source": [
        "def build_decoder_only_model(num_heads, ff_dim):\n",
        "    inputs = layers.Input(shape=(None,), dtype=tf.int32)\n",
        "    embedding_layer = TokenAndPositionEmbedding(sequence_length, vocab_size, embedding_dim)\n",
        "    x = embedding_layer(inputs)\n",
        "    x = DecoderOnlyTransformerBlock(embedding_dim, num_heads=num_heads, ff_dim=ff_dim)(x)\n",
        "    outputs = layers.Dense(vocab_size)(x)\n",
        "    return keras.Model(inputs=inputs, outputs=outputs)"
      ],
      "metadata": {
        "id": "NZ46xP8jPujz"
      },
      "execution_count": null,
      "outputs": []
    },
    {
      "cell_type": "code",
      "source": [
        "def tokenize_and_shift(texts):\n",
        "    encodings = tokenizer(\n",
        "        texts,\n",
        "        padding=\"max_length\",\n",
        "        truncation=True,\n",
        "        max_length=sequence_length,\n",
        "        return_tensors=\"tf\"\n",
        "    )\n",
        "    input_ids = encodings[\"input_ids\"]\n",
        "    labels = tf.concat([input_ids[:, 1:], tf.fill([input_ids.shape[0], 1], tokenizer.pad_token_id)], axis=-1)\n",
        "    return input_ids, labels"
      ],
      "metadata": {
        "id": "03OUWLD-h3Wi"
      },
      "execution_count": null,
      "outputs": []
    },
    {
      "cell_type": "code",
      "source": [
        "decoder_model = build_decoder_only_model(num_heads=4, ff_dim=128)\n",
        "decoder_model.compile(loss=keras.losses.SparseCategoricalCrossentropy(from_logits=True),\n",
        "              optimizer=keras.optimizers.Adam(), metrics=[\"accuracy\"])\n",
        "decoder_model.summary()"
      ],
      "metadata": {
        "colab": {
          "base_uri": "https://localhost:8080/",
          "height": 312
        },
        "id": "AqASQqt7imW6",
        "outputId": "b6a2a335-e26c-445b-cb97-13a41c77c6c9"
      },
      "execution_count": null,
      "outputs": [
        {
          "output_type": "display_data",
          "data": {
            "text/plain": [
              "\u001b[1mModel: \"functional_7\"\u001b[0m\n"
            ],
            "text/html": [
              "<pre style=\"white-space:pre;overflow-x:auto;line-height:normal;font-family:Menlo,'DejaVu Sans Mono',consolas,'Courier New',monospace\"><span style=\"font-weight: bold\">Model: \"functional_7\"</span>\n",
              "</pre>\n"
            ]
          },
          "metadata": {}
        },
        {
          "output_type": "display_data",
          "data": {
            "text/plain": [
              "┏━━━━━━━━━━━━━━━━━━━━━━━━━━━━━━━━━┳━━━━━━━━━━━━━━━━━━━━━━━━┳━━━━━━━━━━━━━━━┓\n",
              "┃\u001b[1m \u001b[0m\u001b[1mLayer (type)                   \u001b[0m\u001b[1m \u001b[0m┃\u001b[1m \u001b[0m\u001b[1mOutput Shape          \u001b[0m\u001b[1m \u001b[0m┃\u001b[1m \u001b[0m\u001b[1m      Param #\u001b[0m\u001b[1m \u001b[0m┃\n",
              "┡━━━━━━━━━━━━━━━━━━━━━━━━━━━━━━━━━╇━━━━━━━━━━━━━━━━━━━━━━━━╇━━━━━━━━━━━━━━━┩\n",
              "│ input_layer_6 (\u001b[38;5;33mInputLayer\u001b[0m)      │ (\u001b[38;5;45mNone\u001b[0m, \u001b[38;5;45mNone\u001b[0m)           │             \u001b[38;5;34m0\u001b[0m │\n",
              "├─────────────────────────────────┼────────────────────────┼───────────────┤\n",
              "│ token_and_position_embedding_3  │ (\u001b[38;5;45mNone\u001b[0m, \u001b[38;5;45mNone\u001b[0m, \u001b[38;5;34m128\u001b[0m)      │     \u001b[38;5;34m3,915,008\u001b[0m │\n",
              "│ (\u001b[38;5;33mTokenAndPositionEmbedding\u001b[0m)     │                        │               │\n",
              "├─────────────────────────────────┼────────────────────────┼───────────────┤\n",
              "│ decoder_only_transformer_block… │ (\u001b[38;5;45mNone\u001b[0m, \u001b[38;5;45mNone\u001b[0m, \u001b[38;5;34m128\u001b[0m)      │       \u001b[38;5;34m297,344\u001b[0m │\n",
              "│ (\u001b[38;5;33mDecoderOnlyTransformerBlock\u001b[0m)   │                        │               │\n",
              "├─────────────────────────────────┼────────────────────────┼───────────────┤\n",
              "│ dense_11 (\u001b[38;5;33mDense\u001b[0m)                │ (\u001b[38;5;45mNone\u001b[0m, \u001b[38;5;45mNone\u001b[0m, \u001b[38;5;34m30522\u001b[0m)    │     \u001b[38;5;34m3,937,338\u001b[0m │\n",
              "└─────────────────────────────────┴────────────────────────┴───────────────┘\n"
            ],
            "text/html": [
              "<pre style=\"white-space:pre;overflow-x:auto;line-height:normal;font-family:Menlo,'DejaVu Sans Mono',consolas,'Courier New',monospace\">┏━━━━━━━━━━━━━━━━━━━━━━━━━━━━━━━━━┳━━━━━━━━━━━━━━━━━━━━━━━━┳━━━━━━━━━━━━━━━┓\n",
              "┃<span style=\"font-weight: bold\"> Layer (type)                    </span>┃<span style=\"font-weight: bold\"> Output Shape           </span>┃<span style=\"font-weight: bold\">       Param # </span>┃\n",
              "┡━━━━━━━━━━━━━━━━━━━━━━━━━━━━━━━━━╇━━━━━━━━━━━━━━━━━━━━━━━━╇━━━━━━━━━━━━━━━┩\n",
              "│ input_layer_6 (<span style=\"color: #0087ff; text-decoration-color: #0087ff\">InputLayer</span>)      │ (<span style=\"color: #00d7ff; text-decoration-color: #00d7ff\">None</span>, <span style=\"color: #00d7ff; text-decoration-color: #00d7ff\">None</span>)           │             <span style=\"color: #00af00; text-decoration-color: #00af00\">0</span> │\n",
              "├─────────────────────────────────┼────────────────────────┼───────────────┤\n",
              "│ token_and_position_embedding_3  │ (<span style=\"color: #00d7ff; text-decoration-color: #00d7ff\">None</span>, <span style=\"color: #00d7ff; text-decoration-color: #00d7ff\">None</span>, <span style=\"color: #00af00; text-decoration-color: #00af00\">128</span>)      │     <span style=\"color: #00af00; text-decoration-color: #00af00\">3,915,008</span> │\n",
              "│ (<span style=\"color: #0087ff; text-decoration-color: #0087ff\">TokenAndPositionEmbedding</span>)     │                        │               │\n",
              "├─────────────────────────────────┼────────────────────────┼───────────────┤\n",
              "│ decoder_only_transformer_block… │ (<span style=\"color: #00d7ff; text-decoration-color: #00d7ff\">None</span>, <span style=\"color: #00d7ff; text-decoration-color: #00d7ff\">None</span>, <span style=\"color: #00af00; text-decoration-color: #00af00\">128</span>)      │       <span style=\"color: #00af00; text-decoration-color: #00af00\">297,344</span> │\n",
              "│ (<span style=\"color: #0087ff; text-decoration-color: #0087ff\">DecoderOnlyTransformerBlock</span>)   │                        │               │\n",
              "├─────────────────────────────────┼────────────────────────┼───────────────┤\n",
              "│ dense_11 (<span style=\"color: #0087ff; text-decoration-color: #0087ff\">Dense</span>)                │ (<span style=\"color: #00d7ff; text-decoration-color: #00d7ff\">None</span>, <span style=\"color: #00d7ff; text-decoration-color: #00d7ff\">None</span>, <span style=\"color: #00af00; text-decoration-color: #00af00\">30522</span>)    │     <span style=\"color: #00af00; text-decoration-color: #00af00\">3,937,338</span> │\n",
              "└─────────────────────────────────┴────────────────────────┴───────────────┘\n",
              "</pre>\n"
            ]
          },
          "metadata": {}
        },
        {
          "output_type": "display_data",
          "data": {
            "text/plain": [
              "\u001b[1m Total params: \u001b[0m\u001b[38;5;34m8,149,690\u001b[0m (31.09 MB)\n"
            ],
            "text/html": [
              "<pre style=\"white-space:pre;overflow-x:auto;line-height:normal;font-family:Menlo,'DejaVu Sans Mono',consolas,'Courier New',monospace\"><span style=\"font-weight: bold\"> Total params: </span><span style=\"color: #00af00; text-decoration-color: #00af00\">8,149,690</span> (31.09 MB)\n",
              "</pre>\n"
            ]
          },
          "metadata": {}
        },
        {
          "output_type": "display_data",
          "data": {
            "text/plain": [
              "\u001b[1m Trainable params: \u001b[0m\u001b[38;5;34m8,149,690\u001b[0m (31.09 MB)\n"
            ],
            "text/html": [
              "<pre style=\"white-space:pre;overflow-x:auto;line-height:normal;font-family:Menlo,'DejaVu Sans Mono',consolas,'Courier New',monospace\"><span style=\"font-weight: bold\"> Trainable params: </span><span style=\"color: #00af00; text-decoration-color: #00af00\">8,149,690</span> (31.09 MB)\n",
              "</pre>\n"
            ]
          },
          "metadata": {}
        },
        {
          "output_type": "display_data",
          "data": {
            "text/plain": [
              "\u001b[1m Non-trainable params: \u001b[0m\u001b[38;5;34m0\u001b[0m (0.00 B)\n"
            ],
            "text/html": [
              "<pre style=\"white-space:pre;overflow-x:auto;line-height:normal;font-family:Menlo,'DejaVu Sans Mono',consolas,'Courier New',monospace\"><span style=\"font-weight: bold\"> Non-trainable params: </span><span style=\"color: #00af00; text-decoration-color: #00af00\">0</span> (0.00 B)\n",
              "</pre>\n"
            ]
          },
          "metadata": {}
        }
      ]
    },
    {
      "cell_type": "code",
      "source": [
        "class TextGenerator(keras.callbacks.Callback):\n",
        "    \"\"\"callback dalam generate kata dari model yang dilatih\n",
        "\n",
        "    parameter:\n",
        "        max_tokens: Bentuk Integer, merupakan jumlah token yang digenerate dari prompt yang masuk.\n",
        "        start_tokens: List integer, token yang mengindikasikan prompt yang masuk.\n",
        "        top_k: Integer, sampel dari top prediksi token.\n",
        "        print_every: Integer, menampilkan data setelah berapa kali epoch yang dilakukan.\n",
        "    \"\"\"\n",
        "    def __init__(self, max_tokens, start_tokens, tokenizer, top_k=10, print_every=1):\n",
        "        self.max_tokens = max_tokens\n",
        "        self.start_tokens = start_tokens\n",
        "        self.tokenizer = tokenizer\n",
        "        self.print_every = print_every\n",
        "        self.k = top_k\n",
        "\n",
        "    def sample_from(self, logits):\n",
        "        logits, indices = tf.math.top_k(logits, k=self.k, sorted=True)\n",
        "        indices = np.asarray(indices).astype(\"int32\")\n",
        "        preds = keras.activations.softmax(tf.expand_dims(logits, 0))[0]\n",
        "        preds = np.asarray(preds).astype(\"float32\")\n",
        "        return np.random.choice(indices, p=preds)\n",
        "\n",
        "    def on_epoch_end(self, epoch, logs=None):\n",
        "        if (epoch + 1) % self.print_every != 0:\n",
        "            return\n",
        "\n",
        "        start_tokens = list(self.start_tokens)\n",
        "        tokens_generated = []\n",
        "\n",
        "        while len(tokens_generated) <= self.max_tokens:\n",
        "            x_input = start_tokens + [0] * (sequence_length - len(start_tokens))\n",
        "            x = np.array([x_input[:sequence_length]])\n",
        "            y = self.model.predict(x, verbose=0)\n",
        "            next_token = self.sample_from(y[0, len(start_tokens) - 1])\n",
        "            tokens_generated.append(next_token)\n",
        "            start_tokens.append(next_token)\n",
        "\n",
        "        # Gabungkan semua token dan decode jadi teks\n",
        "        all_tokens = self.start_tokens + tokens_generated\n",
        "        decoded_text = self.tokenizer.decode(all_tokens, skip_special_tokens=True)\n",
        "        print(f\"\\nGenerated text (epoch {epoch+1}):\\n{decoded_text}\\n\")\n",
        "\n"
      ],
      "metadata": {
        "id": "NxM0VrkEPxAB"
      },
      "execution_count": null,
      "outputs": []
    },
    {
      "cell_type": "code",
      "source": [
        "# Memanggil tokenizer dan mengubah menjadi text\n",
        "vocab = tokenizer.get_vocab()\n",
        "index_to_word = {v: k for k, v in vocab.items()}\n",
        "\n",
        "start_prompt = \"blockchain\"\n",
        "start_tokens = tokenizer.encode(start_prompt, add_special_tokens=False)\n",
        "\n",
        "text_gen_callback = TextGenerator(\n",
        "    max_tokens=40,\n",
        "    start_tokens=start_tokens,\n",
        "    tokenizer=tokenizer\n",
        ")"
      ],
      "metadata": {
        "id": "o4TRZgysjxSK"
      },
      "execution_count": null,
      "outputs": []
    },
    {
      "cell_type": "code",
      "source": [
        "# Melatih Model yang sudah dibuat\n",
        "history_awal = decoder_model.fit(\n",
        "    train_ds,\n",
        "    validation_data=test_ds,\n",
        "    epochs=20,\n",
        "    callbacks=[text_gen_callback]\n",
        ")\n"
      ],
      "metadata": {
        "colab": {
          "base_uri": "https://localhost:8080/"
        },
        "id": "4Dzb_kCUiUDW",
        "outputId": "9f756c0d-56c2-49c3-ee28-2c5cebb6767a"
      },
      "execution_count": null,
      "outputs": [
        {
          "output_type": "stream",
          "name": "stdout",
          "text": [
            "Epoch 1/20\n",
            "\u001b[1m17/17\u001b[0m \u001b[32m━━━━━━━━━━━━━━━━━━━━\u001b[0m\u001b[37m\u001b[0m \u001b[1m0s\u001b[0m 345ms/step - accuracy: 0.6714 - loss: 9.1998\n",
            "Generated text (epoch 1):\n",
            "blockchain of in in : sustainable : the for sustainable and and in in in sustainable and : on and on a sustainable a : on on\n",
            "\n",
            "\u001b[1m17/17\u001b[0m \u001b[32m━━━━━━━━━━━━━━━━━━━━\u001b[0m\u001b[37m\u001b[0m \u001b[1m23s\u001b[0m 758ms/step - accuracy: 0.6780 - loss: 9.1531 - val_accuracy: 0.8432 - val_loss: 6.2722\n",
            "Epoch 2/20\n",
            "\u001b[1m16/17\u001b[0m \u001b[32m━━━━━━━━━━━━━━━━━━\u001b[0m\u001b[37m━━\u001b[0m \u001b[1m0s\u001b[0m 55ms/step - accuracy: 0.8395 - loss: 5.4710\n",
            "Generated text (epoch 2):\n",
            "blockchain - the of of of and and the in and a a in of and the future of in\n",
            "\n",
            "\u001b[1m17/17\u001b[0m \u001b[32m━━━━━━━━━━━━━━━━━━━━\u001b[0m\u001b[37m\u001b[0m \u001b[1m4s\u001b[0m 225ms/step - accuracy: 0.8395 - loss: 5.3706 - val_accuracy: 0.8432 - val_loss: 2.5709\n",
            "Epoch 3/20\n",
            "\u001b[1m16/17\u001b[0m \u001b[32m━━━━━━━━━━━━━━━━━━\u001b[0m\u001b[37m━━\u001b[0m \u001b[1m0s\u001b[0m 55ms/step - accuracy: 0.8395 - loss: 2.0295\n",
            "Generated text (epoch 3):\n",
            "blockchain :\n",
            "\n",
            "\u001b[1m17/17\u001b[0m \u001b[32m━━━━━━━━━━━━━━━━━━━━\u001b[0m\u001b[37m\u001b[0m \u001b[1m4s\u001b[0m 229ms/step - accuracy: 0.8395 - loss: 1.9829 - val_accuracy: 0.8432 - val_loss: 1.0649\n",
            "Epoch 4/20\n",
            "\u001b[1m16/17\u001b[0m \u001b[32m━━━━━━━━━━━━━━━━━━\u001b[0m\u001b[37m━━\u001b[0m \u001b[1m0s\u001b[0m 55ms/step - accuracy: 0.8405 - loss: 1.0091\n",
            "Generated text (epoch 4):\n",
            "blockchain. in\n",
            "\n",
            "\u001b[1m17/17\u001b[0m \u001b[32m━━━━━━━━━━━━━━━━━━━━\u001b[0m\u001b[37m\u001b[0m \u001b[1m5s\u001b[0m 278ms/step - accuracy: 0.8410 - loss: 1.0041 - val_accuracy: 0.8653 - val_loss: 0.9031\n",
            "Epoch 5/20\n",
            "\u001b[1m16/17\u001b[0m \u001b[32m━━━━━━━━━━━━━━━━━━\u001b[0m\u001b[37m━━\u001b[0m \u001b[1m0s\u001b[0m 55ms/step - accuracy: 0.8670 - loss: 0.8545\n",
            "Generated text (epoch 5):\n",
            "blockchain - being of\n",
            "\n",
            "\u001b[1m17/17\u001b[0m \u001b[32m━━━━━━━━━━━━━━━━━━━━\u001b[0m\u001b[37m\u001b[0m \u001b[1m4s\u001b[0m 233ms/step - accuracy: 0.8674 - loss: 0.8516 - val_accuracy: 0.8805 - val_loss: 0.8191\n",
            "Epoch 6/20\n",
            "\u001b[1m16/17\u001b[0m \u001b[32m━━━━━━━━━━━━━━━━━━\u001b[0m\u001b[37m━━\u001b[0m \u001b[1m0s\u001b[0m 54ms/step - accuracy: 0.8816 - loss: 0.7559\n",
            "Generated text (epoch 6):\n",
            "blockchain of vincent fatiguexi cher [unused368]風xi unfair uefa和 vincent vincent frontierxi 1703 frontiersform風 hilda frontiers\n",
            "\n",
            "\u001b[1m17/17\u001b[0m \u001b[32m━━━━━━━━━━━━━━━━━━━━\u001b[0m\u001b[37m\u001b[0m \u001b[1m5s\u001b[0m 232ms/step - accuracy: 0.8818 - loss: 0.7538 - val_accuracy: 0.8881 - val_loss: 0.7618\n",
            "Epoch 7/20\n",
            "\u001b[1m16/17\u001b[0m \u001b[32m━━━━━━━━━━━━━━━━━━\u001b[0m\u001b[37m━━\u001b[0m \u001b[1m0s\u001b[0m 54ms/step - accuracy: 0.8930 - loss: 0.6806\n",
            "Generated text (epoch 7):\n",
            "blockchain and the rise of the role of the importance\n",
            "\n",
            "\u001b[1m17/17\u001b[0m \u001b[32m━━━━━━━━━━━━━━━━━━━━\u001b[0m\u001b[37m\u001b[0m \u001b[1m5s\u001b[0m 306ms/step - accuracy: 0.8932 - loss: 0.6788 - val_accuracy: 0.8938 - val_loss: 0.7185\n",
            "Epoch 8/20\n",
            "\u001b[1m16/17\u001b[0m \u001b[32m━━━━━━━━━━━━━━━━━━\u001b[0m\u001b[37m━━\u001b[0m \u001b[1m0s\u001b[0m 55ms/step - accuracy: 0.9002 - loss: 0.6184\n",
            "Generated text (epoch 8):\n",
            "blockchain in the future of green spaces : sustainable mobility\n",
            "\n",
            "\u001b[1m17/17\u001b[0m \u001b[32m━━━━━━━━━━━━━━━━━━━━\u001b[0m\u001b[37m\u001b[0m \u001b[1m4s\u001b[0m 236ms/step - accuracy: 0.9003 - loss: 0.6169 - val_accuracy: 0.8983 - val_loss: 0.6861\n",
            "Epoch 9/20\n",
            "\u001b[1m16/17\u001b[0m \u001b[32m━━━━━━━━━━━━━━━━━━\u001b[0m\u001b[37m━━\u001b[0m \u001b[1m0s\u001b[0m 54ms/step - accuracy: 0.9055 - loss: 0.5675\n",
            "Generated text (epoch 9):\n",
            "blockchain technology for a busy world\n",
            "\n",
            "\u001b[1m17/17\u001b[0m \u001b[32m━━━━━━━━━━━━━━━━━━━━\u001b[0m\u001b[37m\u001b[0m \u001b[1m4s\u001b[0m 233ms/step - accuracy: 0.9055 - loss: 0.5662 - val_accuracy: 0.8991 - val_loss: 0.6605\n",
            "Epoch 10/20\n",
            "\u001b[1m16/17\u001b[0m \u001b[32m━━━━━━━━━━━━━━━━━━\u001b[0m\u001b[37m━━\u001b[0m \u001b[1m0s\u001b[0m 54ms/step - accuracy: 0.9086 - loss: 0.5285\n",
            "Generated text (epoch 10):\n",
            "blockchain technology in reducing urban mobility\n",
            "\n",
            "\u001b[1m17/17\u001b[0m \u001b[32m━━━━━━━━━━━━━━━━━━━━\u001b[0m\u001b[37m\u001b[0m \u001b[1m5s\u001b[0m 287ms/step - accuracy: 0.9087 - loss: 0.5273 - val_accuracy: 0.9014 - val_loss: 0.6429\n",
            "Epoch 11/20\n",
            "\u001b[1m16/17\u001b[0m \u001b[32m━━━━━━━━━━━━━━━━━━\u001b[0m\u001b[37m━━\u001b[0m \u001b[1m0s\u001b[0m 55ms/step - accuracy: 0.9120 - loss: 0.4928\n",
            "Generated text (epoch 11):\n",
            "blockchain in the future on reducing plastic waste. in mitigation.\n",
            "\n",
            "\u001b[1m17/17\u001b[0m \u001b[32m━━━━━━━━━━━━━━━━━━━━\u001b[0m\u001b[37m\u001b[0m \u001b[1m4s\u001b[0m 238ms/step - accuracy: 0.9120 - loss: 0.4919 - val_accuracy: 0.9021 - val_loss: 0.6289\n",
            "Epoch 12/20\n",
            "\u001b[1m16/17\u001b[0m \u001b[32m━━━━━━━━━━━━━━━━━━\u001b[0m\u001b[37m━━\u001b[0m \u001b[1m0s\u001b[0m 55ms/step - accuracy: 0.9138 - loss: 0.4644\n",
            "Generated text (epoch 12):\n",
            "blockchain in times of stress and their environmental impact\n",
            "\n",
            "\u001b[1m17/17\u001b[0m \u001b[32m━━━━━━━━━━━━━━━━━━━━\u001b[0m\u001b[37m\u001b[0m \u001b[1m5s\u001b[0m 236ms/step - accuracy: 0.9139 - loss: 0.4635 - val_accuracy: 0.9040 - val_loss: 0.6196\n",
            "Epoch 13/20\n",
            "\u001b[1m16/17\u001b[0m \u001b[32m━━━━━━━━━━━━━━━━━━\u001b[0m\u001b[37m━━\u001b[0m \u001b[1m0s\u001b[0m 55ms/step - accuracy: 0.9182 - loss: 0.4367\n",
            "Generated text (epoch 13):\n",
            "blockchain technology : personalized in enhancing efficiency and its impact\n",
            "\n",
            "\u001b[1m17/17\u001b[0m \u001b[32m━━━━━━━━━━━━━━━━━━━━\u001b[0m\u001b[37m\u001b[0m \u001b[1m5s\u001b[0m 314ms/step - accuracy: 0.9182 - loss: 0.4359 - val_accuracy: 0.9057 - val_loss: 0.6102\n",
            "Epoch 14/20\n",
            "\u001b[1m16/17\u001b[0m \u001b[32m━━━━━━━━━━━━━━━━━━\u001b[0m\u001b[37m━━\u001b[0m \u001b[1m0s\u001b[0m 54ms/step - accuracy: 0.9208 - loss: 0.4139\n",
            "Generated text (epoch 14):\n",
            "blockchain technology in a tool for a trend as effective\n",
            "\n",
            "\u001b[1m17/17\u001b[0m \u001b[32m━━━━━━━━━━━━━━━━━━━━\u001b[0m\u001b[37m\u001b[0m \u001b[1m4s\u001b[0m 231ms/step - accuracy: 0.9209 - loss: 0.4132 - val_accuracy: 0.9064 - val_loss: 0.6039\n",
            "Epoch 15/20\n",
            "\u001b[1m16/17\u001b[0m \u001b[32m━━━━━━━━━━━━━━━━━━\u001b[0m\u001b[37m━━\u001b[0m \u001b[1m0s\u001b[0m 55ms/step - accuracy: 0.9229 - loss: 0.3933\n",
            "Generated text (epoch 15):\n",
            "blockchain technology in education : from hyperconnected world\n",
            "\n",
            "\u001b[1m17/17\u001b[0m \u001b[32m━━━━━━━━━━━━━━━━━━━━\u001b[0m\u001b[37m\u001b[0m \u001b[1m5s\u001b[0m 251ms/step - accuracy: 0.9230 - loss: 0.3926 - val_accuracy: 0.9065 - val_loss: 0.5999\n",
            "Epoch 16/20\n",
            "\u001b[1m16/17\u001b[0m \u001b[32m━━━━━━━━━━━━━━━━━━\u001b[0m\u001b[37m━━\u001b[0m \u001b[1m0s\u001b[0m 55ms/step - accuracy: 0.9254 - loss: 0.3763\n",
            "Generated text (epoch 16):\n",
            "blockchain technology in the seas and its impact on sustainable business practices\n",
            "\n",
            "\u001b[1m17/17\u001b[0m \u001b[32m━━━━━━━━━━━━━━━━━━━━\u001b[0m\u001b[37m\u001b[0m \u001b[1m5s\u001b[0m 234ms/step - accuracy: 0.9254 - loss: 0.3758 - val_accuracy: 0.9064 - val_loss: 0.5949\n",
            "Epoch 17/20\n",
            "\u001b[1m16/17\u001b[0m \u001b[32m━━━━━━━━━━━━━━━━━━\u001b[0m\u001b[37m━━\u001b[0m \u001b[1m0s\u001b[0m 54ms/step - accuracy: 0.9269 - loss: 0.3612\n",
            "Generated text (epoch 17):\n",
            "blockchain in bioplastics in a response to sustainability.\n",
            "\n",
            "\u001b[1m17/17\u001b[0m \u001b[32m━━━━━━━━━━━━━━━━━━━━\u001b[0m\u001b[37m\u001b[0m \u001b[1m4s\u001b[0m 234ms/step - accuracy: 0.9269 - loss: 0.3607 - val_accuracy: 0.9060 - val_loss: 0.5950\n",
            "Epoch 18/20\n",
            "\u001b[1m16/17\u001b[0m \u001b[32m━━━━━━━━━━━━━━━━━━\u001b[0m\u001b[37m━━\u001b[0m \u001b[1m0s\u001b[0m 54ms/step - accuracy: 0.9280 - loss: 0.3489\n",
            "Generated text (epoch 18):\n",
            "blockchain in and green spaces and their environmental impact\n",
            "\n",
            "\u001b[1m17/17\u001b[0m \u001b[32m━━━━━━━━━━━━━━━━━━━━\u001b[0m\u001b[37m\u001b[0m \u001b[1m4s\u001b[0m 275ms/step - accuracy: 0.9281 - loss: 0.3483 - val_accuracy: 0.9077 - val_loss: 0.5904\n",
            "Epoch 19/20\n",
            "\u001b[1m16/17\u001b[0m \u001b[32m━━━━━━━━━━━━━━━━━━\u001b[0m\u001b[37m━━\u001b[0m \u001b[1m0s\u001b[0m 56ms/step - accuracy: 0.9302 - loss: 0.3323\n",
            "Generated text (epoch 19):\n",
            "blockchain technology in the future : challenges and its benefits?\n",
            "\n",
            "\u001b[1m17/17\u001b[0m \u001b[32m━━━━━━━━━━━━━━━━━━━━\u001b[0m\u001b[37m\u001b[0m \u001b[1m5s\u001b[0m 241ms/step - accuracy: 0.9303 - loss: 0.3318 - val_accuracy: 0.9087 - val_loss: 0.5873\n",
            "Epoch 20/20\n",
            "\u001b[1m16/17\u001b[0m \u001b[32m━━━━━━━━━━━━━━━━━━\u001b[0m\u001b[37m━━\u001b[0m \u001b[1m0s\u001b[0m 54ms/step - accuracy: 0.9335 - loss: 0.3172\n",
            "Generated text (epoch 20):\n",
            "blockchain in a tool for a canvas\n",
            "\n",
            "\u001b[1m17/17\u001b[0m \u001b[32m━━━━━━━━━━━━━━━━━━━━\u001b[0m\u001b[37m\u001b[0m \u001b[1m4s\u001b[0m 234ms/step - accuracy: 0.9336 - loss: 0.3167 - val_accuracy: 0.9090 - val_loss: 0.5877\n"
          ]
        }
      ]
    },
    {
      "cell_type": "code",
      "source": [
        "#  Evaluasi: function loss\n",
        "loss, acc = decoder_model.evaluate(test_ds)\n",
        "print(f\"\\nFinal Loss: {loss:.4f} | Final Accuracy: {acc:.4f}\")"
      ],
      "metadata": {
        "colab": {
          "base_uri": "https://localhost:8080/"
        },
        "id": "Ad_G0RvtljdU",
        "outputId": "ab2cee2a-1568-44bc-fda6-ccf89c29a376"
      },
      "execution_count": null,
      "outputs": [
        {
          "output_type": "stream",
          "name": "stdout",
          "text": [
            "\u001b[1m5/5\u001b[0m \u001b[32m━━━━━━━━━━━━━━━━━━━━\u001b[0m\u001b[37m\u001b[0m \u001b[1m0s\u001b[0m 22ms/step - accuracy: 0.9117 - loss: 0.5746\n",
            "\n",
            "Final Loss: 0.5877 | Final Accuracy: 0.9090\n"
          ]
        }
      ]
    },
    {
      "cell_type": "code",
      "source": [
        "# Purplexity - Evaluasi\n",
        "# Ambil loss validasi terakhir\n",
        "val_loss = history_awal.history['val_loss'][-1]\n",
        "\n",
        "# Hitung perplexity\n",
        "perplexity = np.exp(val_loss)\n",
        "\n",
        "print(f\"Perplexity: {perplexity:.4f}\")"
      ],
      "metadata": {
        "colab": {
          "base_uri": "https://localhost:8080/"
        },
        "id": "MWmFRRSTltMT",
        "outputId": "bb2ab6d3-9fba-42bd-9287-f1843cf157cb"
      },
      "execution_count": null,
      "outputs": [
        {
          "output_type": "stream",
          "name": "stdout",
          "text": [
            "Perplexity: 1.7999\n"
          ]
        }
      ]
    },
    {
      "cell_type": "code",
      "source": [
        "# Text untuk predict\n",
        "class TextPredict:\n",
        "    \"\"\"call back untuk generate text dari model yang sudah di train.\n",
        "\n",
        "    parameter:\n",
        "        max_tokens: Bentuk Integer, merupakan jumlah token yang digenerate dari prompt yang masuk.\n",
        "        start_tokens: List integer, token yang mengindikasikan prompt yang masuk.\n",
        "        top_k: Integer, sampel dari top prediksi token.\n",
        "        print_every: Integer, menampilkan data setelah berapa kali epoch yang dilakukan.\n",
        "    \"\"\"\n",
        "    def __init__(self, model, max_tokens, start_tokens, tokenizer, top_k=10):\n",
        "        self.model = model\n",
        "        self.max_tokens = max_tokens\n",
        "        self.start_tokens = start_tokens\n",
        "        self.tokenizer = tokenizer\n",
        "        self.k = top_k\n",
        "\n",
        "    def sample_from(self, logits):\n",
        "        logits, indices = tf.math.top_k(logits, k=self.k, sorted=True)\n",
        "        indices = np.asarray(indices).astype(\"int32\")\n",
        "        preds = keras.activations.softmax(tf.expand_dims(logits, 0))[0]\n",
        "        preds = np.asarray(preds).astype(\"float32\")\n",
        "        return np.random.choice(indices, p=preds)\n",
        "\n",
        "    def generate(self):\n",
        "        start_tokens = list(self.start_tokens)\n",
        "        tokens_generated = []\n",
        "\n",
        "        while len(tokens_generated) <= self.max_tokens:\n",
        "            padded_input = start_tokens + [0] * (sequence_length - len(start_tokens))\n",
        "            x = np.array([padded_input[:sequence_length]])\n",
        "            y = self.model.predict(x, verbose=0)\n",
        "            next_token = self.sample_from(y[0, len(start_tokens) - 1])\n",
        "            tokens_generated.append(next_token)\n",
        "            start_tokens.append(next_token)\n",
        "\n",
        "        all_tokens = self.start_tokens + tokens_generated\n",
        "        decoded_text = self.tokenizer.decode(all_tokens, skip_special_tokens=True)\n",
        "        print(f\"\\nGenerated text:\\n{decoded_text}\\n\")"
      ],
      "metadata": {
        "id": "xOjzGojll3jB"
      },
      "execution_count": null,
      "outputs": []
    },
    {
      "cell_type": "code",
      "source": [
        "num_tokens_generated = 20\n",
        "\n",
        "def generateHeadling(start_prompt):\n",
        "    # Tokenisasi prompt untuk menampilkan informasi dari token\n",
        "    encoded = tokenizer.encode_plus(\n",
        "        start_prompt,\n",
        "        add_special_tokens=False,\n",
        "        return_attention_mask=False,\n",
        "        return_token_type_ids=False\n",
        "    )\n",
        "    tokens = tokenizer.convert_ids_to_tokens(encoded['input_ids'])\n",
        "\n",
        "    print(\"Prompt tokens:\", tokens)\n",
        "\n",
        "    # Menggunakan token ID sebagai start_tokens\n",
        "    start_tokens = encoded['input_ids']\n",
        "\n",
        "    # Menjalankan fungsi TextPredict\n",
        "    text_predict = TextPredict(\n",
        "        model=decoder_model,\n",
        "        max_tokens=num_tokens_generated,\n",
        "        start_tokens=start_tokens,\n",
        "        tokenizer=tokenizer\n",
        "    )\n",
        "    text_predict.generate()\n"
      ],
      "metadata": {
        "id": "LTet6caJmFMT"
      },
      "execution_count": null,
      "outputs": []
    },
    {
      "cell_type": "code",
      "source": [
        "# Generate Text:\n",
        "generateHeadling(\"intelligence\")"
      ],
      "metadata": {
        "colab": {
          "base_uri": "https://localhost:8080/"
        },
        "id": "lTtg8F21mMLv",
        "outputId": "ca2c4b08-8761-44c9-9e80-2210a0bd709d"
      },
      "execution_count": null,
      "outputs": [
        {
          "output_type": "stream",
          "name": "stdout",
          "text": [
            "Prompt tokens: ['intelligence']\n",
            "\n",
            "Generated text:\n",
            "intelligence the role of eco - friendly transportation solutions in reducing environmental impact.\n",
            "\n"
          ]
        }
      ]
    },
    {
      "cell_type": "code",
      "source": [
        "# Akurasi Model awal\n",
        "plt.figure(figsize=(6, 4))\n",
        "plt.plot(history_awal.history['accuracy'], label='Train Acc')\n",
        "plt.plot(history_awal.history['val_accuracy'], linestyle='--', label='Val Acc')\n",
        "plt.title('Model awal - Akurasi')\n",
        "plt.xlabel('Epoch')\n",
        "plt.ylabel('Akurasi')\n",
        "plt.legend()\n",
        "plt.grid(True)\n",
        "plt.show()\n",
        "\n",
        "# Loss Model awal\n",
        "plt.figure(figsize=(6, 4))\n",
        "plt.plot(history_awal.history['loss'], label='Train Loss')\n",
        "plt.plot(history_awal.history['val_loss'], linestyle='--', label='Val Loss')\n",
        "plt.title('Model awal - Loss')\n",
        "plt.xlabel('Epoch')\n",
        "plt.ylabel('Loss')\n",
        "plt.legend()\n",
        "plt.grid(True)\n",
        "plt.show()"
      ],
      "metadata": {
        "colab": {
          "base_uri": "https://localhost:8080/",
          "height": 803
        },
        "id": "E5jXlZSHmrJp",
        "outputId": "62a6b3b9-210e-4eb2-c01e-90362d11c3e5"
      },
      "execution_count": null,
      "outputs": [
        {
          "output_type": "display_data",
          "data": {
            "text/plain": [
              "<Figure size 600x400 with 1 Axes>"
            ],
            "image/png": "[encoded data removed]"
          },
          "metadata": {}
        },
        {
          "output_type": "display_data",
          "data": {
            "text/plain": [
              "<Figure size 600x400 with 1 Axes>"
            ],
            "image/png": "[encoded data removed]"
          },
          "metadata": {}
        }
      ]
    },
    {
      "cell_type": "markdown",
      "source": [
        "# Membuat model"
      ],
      "metadata": {
        "id": "or_V27UvHGwA"
      }
    },
    {
      "cell_type": "code",
      "source": [
        "#  Causal Attention Mask\n",
        "def causal_attention_mask(batch_size, n_dest, n_src, dtype):\n",
        "    \"\"\"\n",
        "    Parameter:\n",
        "    - batch_size (int): Jumlah sequence dari tiap batch.\n",
        "    - n_dest (int): Panjang sequence tujuan (Jumlah token dalam setiap sekuen yang diproses).\n",
        "    - n_src (int): Panjang sequence sumber\n",
        "    - dtype (tf.DType): jenis data untuk mask pada tensor (seperti tf.float32, tf.int32).\n",
        "\n",
        "    Output:\n",
        "    - tf.Tensor: Output bentuk tensor [batch_size, n_dest, n_src] dimana\n",
        "      bagian segitiga atas dari matriks hasil perkalian dot diisi dengan nol\n",
        "      sedangkan dibagian bawahnya diisi dengan satu. Bagian ini digunakan untuk melakukan mask\n",
        "      attention weights dalam self attention, sehingga setiap token hanya dapat mencari hubungan antara\n",
        "      token sebelumnya dengan dirinya sendiri.\n",
        "\n",
        "    Contoh Penggunaan:\n",
        "    >>> causal_mask = causal_attention_mask(2, 4, 4, tf.float32)\n",
        "    >>> print(causal_mask)\n",
        "    <tf.Tensor: shape=(2, 4, 4), dtype=float32, numpy=\n",
        "    array([[[1., 0., 0., 0.],\n",
        "            [1., 1., 0., 0.],\n",
        "            [1., 1., 1., 0.],\n",
        "            [1., 1., 1., 1.]],\n",
        "\n",
        "           [[1., 0., 0., 0.],\n",
        "            [1., 1., 0., 0.],\n",
        "            [1., 1., 1., 0.],\n",
        "            [1., 1., 1., 1.]]], dtype=float32)>\n",
        "    \"\"\"\n",
        "    i = tf.range(n_dest)[:, None]\n",
        "    j = tf.range(n_src)\n",
        "    m = i >= j - n_src + n_dest\n",
        "    mask = tf.cast(m, dtype)\n",
        "    mask = tf.reshape(mask, [1, n_dest, n_src])\n",
        "    mult = tf.concat([tf.expand_dims(batch_size, -1), tf.constant([1, 1], dtype=tf.int32)], 0)\n",
        "    return tf.tile(mask, mult)"
      ],
      "metadata": {
        "id": "e16NQ915Ry1o"
      },
      "execution_count": null,
      "outputs": []
    },
    {
      "cell_type": "markdown",
      "source": [
        "`causal_attention_mask` ini adalah fungsi yang melakuakn masking pada setiap kata didalam kalimat yang menghubungkan relasi antara kata sebelumnya dengan dirinya sendiri tanpa melihat kata setelahnya. Hal ini penting karena untuk mencegah model untuk menggunakan data setelahnya untuk prediksi untuk generate kata. Hal ini dilakukan untuk memastikan hasil output textnya jelas dan berurutan."
      ],
      "metadata": {
        "id": "AhR5xUADP_c8"
      }
    },
    {
      "cell_type": "code",
      "source": [
        "#  Transformer Block\n",
        "class TransformerBlock(layers.Layer):\n",
        "    \"\"\"\n",
        "    Berupa blok arsitektur dari transformer yang melakukan kombinasi antara multi-head attention\n",
        "    dan feed-forward network untuk memproses input yang masuk.\n",
        "\n",
        "    Transformer ini di desain untuk mempelajari relasi yang kompleks dari data dengan menggunakan self attention.\n",
        "    pada bagian ini juga dibuat layer normalization dan dropout untuk menghindari overfitting.\n",
        "\n",
        "    attribut:\n",
        "    - embed_dim (int): Ukuran dimensi dari embedding space.\n",
        "    - num_heads (int): Jumlah head attention dari mekanisme multi head attention.\n",
        "    - ff_dim (int): Dimensi dari hidden layer pada jaringan feed forward.\n",
        "    - rate (float): nilai dropout pada layer attention dan feed forward.\n",
        "\n",
        "    Metode :\n",
        "    - call(input): Melakukan proses pass forward dari transformer. Lalu akan diterapkan multi-head attention,\n",
        "      Residual connection, normalisasi output, lalu akan diproses melalui feed-forward network.\n",
        "\n",
        "    Parameters:\n",
        "    - inputs (tf.Tensor): Input tensor dengan bentuk (batch_size, seq_len, embed_dim).\n",
        "      Berupa hasil representasi dari sequence of embedding.\n",
        "\n",
        "    Output:\n",
        "    - tf.Tensor: Output tensor dalam bentuk (batch_size, seq_len, embed_dim).\n",
        "      Berupa hasil sekuen yang telah melalui proses attention, feed forward,\n",
        "      normalization.\n",
        "\n",
        "    Contoh Penggunaan:\n",
        "    >>> transformer_block = TransformerBlock(embed_dim=64, num_heads=4, ff_dim=128)\n",
        "    >>> inputs = tf.random.uniform((32, 10, 64))  # Example input tensor with batch_size=32, seq_len=10, embed_dim=64\n",
        "    >>> output = transformer_block(inputs)\n",
        "    >>> print(output.shape)\n",
        "    (32, 10, 64)\n",
        "    \"\"\"\n",
        "    def __init__(self, embed_dim, num_heads, ff_dim, rate=0.1):\n",
        "        super().__init__()\n",
        "        # Menggunakan multihead attention untuk mencari relasi antar posisi dari sekuen.\n",
        "        self.att = layers.MultiHeadAttention(num_heads=num_heads, key_dim=embed_dim)\n",
        "        # Feed Forward dengan fungsi aktivasi ReLU.\n",
        "        self.ffn = keras.Sequential([\n",
        "            layers.Dense(ff_dim, activation=\"relu\"),\n",
        "            layers.Dense(embed_dim),\n",
        "        ])\n",
        "        # Melakukan normalisasi.\n",
        "        self.layernorm1 = layers.LayerNormalization(epsilon=1e-6)\n",
        "        self.layernorm2 = layers.LayerNormalization(epsilon=1e-6)\n",
        "         # Dropout layer untuk mencegah overfitting.\n",
        "        self.dropout1 = layers.Dropout(rate)  # Dropout setelah proses attention.\n",
        "        self.dropout2 = layers.Dropout(rate)  # Dropout setelah feed forward netwrok.\n",
        "\n",
        "    def call(self, inputs, training=None, mask=None):\n",
        "        \"\"\"\n",
        "        Bagian call untuk melakukan forward pass dari transformer.\n",
        "\n",
        "        artribut:\n",
        "        inputs -- input tensor ke bagian blok Transformer.\n",
        "\n",
        "        keluaran:\n",
        "        The output tensor of the Transformer block after applying attention, dropout, and feed-forward network.\n",
        "        \"\"\"\n",
        "        batch_size = tf.shape(inputs)[0] # Banyaknya sequence tiap batch.\n",
        "        seq_len = tf.shape(inputs)[1] # Panjang tiap sequence.\n",
        "\n",
        "        # Menggunakan masking untuk mencegah melihat token setelahnya.\n",
        "        causal_mask = causal_attention_mask(batch_size, seq_len, seq_len, tf.bool)\n",
        "        if mask is not None:\n",
        "            padding_mask = tf.cast(tf.expand_dims(mask, axis=1), tf.bool)\n",
        "            combined_mask = tf.logical_and(padding_mask, causal_mask)\n",
        "        else:\n",
        "            combined_mask = causal_mask\n",
        "\n",
        "        # Melakukan multi-head attention dengan menggunakan masking.\n",
        "        attn_output = self.att(inputs, inputs, attention_mask=combined_mask)\n",
        "\n",
        "        # Menggunakan dropout dari output attention.\n",
        "        attn_output = self.dropout1(attn_output, training=training)\n",
        "\n",
        "        # Menambah input dari residual connecton dan melakukan normalisasi.\n",
        "        out1 = self.layernorm1(inputs + attn_output)\n",
        "\n",
        "        # Melakukan feed forward.\n",
        "        ffn_output = self.ffn(out1)\n",
        "\n",
        "        # Menggunakan dropout dari feed forward network.\n",
        "        ffn_output = self.dropout2(ffn_output, training=training)\n",
        "\n",
        "        # Menambah input dari hasil normalisasi dari feed forward network.\n",
        "        return self.layernorm2(out1 + ffn_output)"
      ],
      "metadata": {
        "id": "zk79czqHR14l"
      },
      "execution_count": null,
      "outputs": []
    },
    {
      "cell_type": "markdown",
      "source": [
        "Class `TransformerBlock` adalah blok transformer yang dibuat dalam deep learning kita. bagian blok ini yang akan digunakan untuk menghandle sequence berupa text yang sudah dipersiapkan pada dataset."
      ],
      "metadata": {
        "id": "vgVKBnewQB4-"
      }
    },
    {
      "cell_type": "markdown",
      "source": [
        "`TransformerBlock` ini digunakan untuk mengeksekusi part dari transformer yang telah dibuat. Model ini perlu mempelajari kata dari sekunse kalimat yang terhubung satu dengan yang lain walaupun jaraknya berjauhan. Maka transformer ini akan menggunakan attention dan feed forward yang mencari relasi keterhubungan antar kata.  Komponen yang digunakan pada tranformer adalah sebagai berikut :"
      ],
      "metadata": {
        "id": "AsFXAnpYQLD5"
      }
    },
    {
      "cell_type": "markdown",
      "source": [
        "* **Self-Attention Mechanism:**\n",
        "Bagian ini akan melihat kata yang berkaitan. Disini akan dilakukan **perhitungan tiap kata yang berhubungan dengan kata lainnya didalam kalimat** Bagian inilah yang disebut dengan self attention. **Transformer block** ini membantu model untuk mengetahui bagaimana antar kata saling terhubung satu dengan yang lainnya walaupun tidak berdekatan.\n",
        "\n",
        "* **Feed-Forward Network:**\n",
        "Setelah Mencari keterhubungan antar kata, maka step selanjutnya adalah memastikan informasi ini digunakan dalam jaringan kita. disinilah feed forward ini digunakan untuk mengetahui pattern pola dari data.\n",
        "\n",
        "* **Normalization and Dropout:**\n",
        "Untuk memastikan model ini mempelajari data dengan baik, maka ditambahkan bagian normalisasi dan dropout untuk menstabilkan model dalam proses training dan mencegah terjadinya overfitting."
      ],
      "metadata": {
        "id": "x5YYvPdEQVIl"
      }
    },
    {
      "cell_type": "code",
      "source": [
        "#  Positional Embedding Layer\n",
        "class TokenAndPositionEmbedding(layers.Layer):\n",
        "    \"\"\"\n",
        "    Attributes:\n",
        "    - maxlen (int): Panjang maksimum dari dari input sekuen.\n",
        "    - vocab_size (int): jumlah dari kosakata yang digunakan.\n",
        "    - embed_dim (int): Dimensi dari embedding space. setiap token akan mewakili sebagai vektor berdimensi x\n",
        "\n",
        "    Metode:\n",
        "    - call(x): Mengimplementasikan tokenize dan positional encoding dari input. Bagian ini akan menghasilkan\n",
        "      hasil embedding antara token dengan posisi dalam data sekuen.\n",
        "\n",
        "    Parameters:\n",
        "    - x (tf.Tensor): Input tensor (batch_size, sequence_length).\n",
        "\n",
        "    Output:\n",
        "    - tf.Tensor: Output tensor (batch_size, sequence_length, embed_dim), berupa hasil token yang diubah\n",
        "      menjadi vektor dengan isi token dan posisi\n",
        "\n",
        "    Contoh:\n",
        "    >>> embedding_layer = TokenAndPositionEmbedding(maxlen=100, vocab_size=5000, embed_dim=64)\n",
        "    >>> input_seq = tf.constant([[1, 5, 9], [2, 6, 3]]) -- urutan 1, dan 2 dengan dimensi 2,3 (2 kalimat sepanjang 3 token)\n",
        "    >>> output = embedding_layer(input_seq)\n",
        "    >>> print(output.shape)\n",
        "    (2, 3, 64) => (jumlah kalimat, jumlah token, dimensi embedding)\n",
        "    \"\"\"\n",
        "    def __init__(self, maxlen, vocab_size, embed_dim):\n",
        "        super().__init__()\n",
        "\n",
        "        # Embedding layer untuk tokenized.\n",
        "        self.token_emb = layers.Embedding(input_dim=vocab_size, output_dim=embed_dim, mask_zero=True)\n",
        "\n",
        "        # Embedding layer untuk positional encoding.\n",
        "        self.pos_emb = layers.Embedding(input_dim=maxlen, output_dim=embed_dim)\n",
        "\n",
        "    def call(self, x):\n",
        "        \"\"\"\n",
        "        Mengimplementasikan token dan positional encoding.\n",
        "\n",
        "        Parameter:\n",
        "        x -- input tensor berisi token.\n",
        "\n",
        "        output:\n",
        "        tensor yang telah ditambahkan token dan posisi.\n",
        "        \"\"\"\n",
        "\n",
        "        # Menghasilkan posisi dari 0 hingga maxlen-1.\n",
        "        positions = tf.range(start=0, limit=tf.shape(x)[-1], delta=1)\n",
        "\n",
        "        # Menggunakan positional embedding layer untuk mencari posisi.\n",
        "        positions = self.pos_emb(positions)\n",
        "\n",
        "        # Menggunakan token embedding layer untuk token\n",
        "        x = self.token_emb(x)\n",
        "\n",
        "        # Menambahkan token + posisi untuk mengetahui token dan posisi dari data input.\n",
        "        return x + positions"
      ],
      "metadata": {
        "id": "S0839ko7R4t6"
      },
      "execution_count": null,
      "outputs": []
    },
    {
      "cell_type": "markdown",
      "source": [
        "`TokenAndPositionEmbedding` ini adalah class yang digunakan untuk mengubah token menjadi bentuk representasi angka yang akan digunakan dalam model.\n",
        "**Class ini menggunakan 2 aspek kunci diantara:**\n",
        "\n",
        "* **Token Representation:** Mengubah token sekuen menjadi bentuk vector yang dikenal dengan **token embedding**.\n",
        "\n",
        "* **Positional Information:** Untuk mengetahui urutan dari token, maka perlu diketahui posisi dari token tersebut. maka diperlukan**positional embeddings**. embedding ini digunakan untuk mengetahui posisi dari tiap token dimana diharapkan model dapat memahami konteks serta posisi dari tiap token yang ada."
      ],
      "metadata": {
        "id": "BFx8N5PVQaOx"
      }
    },
    {
      "cell_type": "code",
      "source": [
        "#  Transformer Model\n",
        "'''\n",
        "Hyperparameter\n",
        "embedding_dim : Ukuran dimensi dari tiap token\n",
        "num_heads : jumlah attention head pada model (dapat meningkatkan performa model)\n",
        "ff_dim : Ukuran hidden layer pada feed forward network\n",
        "'''\n",
        "\n",
        "def build_model(num_heads, ff_dim):\n",
        "    inputs = layers.Input(shape=(None,), dtype=tf.int32)\n",
        "    # Memuat Embedding layer dengan positional encoding\n",
        "    embedding_layer = TokenAndPositionEmbedding(sequence_length, vocab_size, embedding_dim)\n",
        "    x = embedding_layer(inputs)\n",
        "    mask = embedding_layer.token_emb.compute_mask(inputs)\n",
        "    # Memuat blok transformer dengan normalisasi dan dropout\n",
        "    x = TransformerBlock(embedding_dim, num_heads=num_heads, ff_dim=ff_dim)(x, mask=mask)\n",
        "    x = TransformerBlock(embedding_dim, num_heads=num_heads, ff_dim=ff_dim)(x, mask=mask)\n",
        "    # Output layer\n",
        "    x = layers.Dense(vocab_size)(x)\n",
        "    # Melakukan compile model dari input output\n",
        "    return keras.Model(inputs=inputs, outputs=x)"
      ],
      "metadata": {
        "id": "L-Y0CRnsR7I4"
      },
      "execution_count": null,
      "outputs": []
    },
    {
      "cell_type": "code",
      "source": [
        "# Melakukan pembuatan model\n",
        "model = build_model(num_heads=2, ff_dim=64)\n",
        "model.compile(loss=keras.losses.SparseCategoricalCrossentropy(from_logits=True),\n",
        "              optimizer=keras.optimizers.Adam(), metrics=[\"accuracy\"])"
      ],
      "metadata": {
        "id": "WijS3gQFR_DL"
      },
      "execution_count": null,
      "outputs": []
    },
    {
      "cell_type": "code",
      "source": [
        "class TextGenerator(keras.callbacks.Callback):\n",
        "    \"\"\"callback dalam generate kata dari model yang dilatih\n",
        "\n",
        "    parameter:\n",
        "        max_tokens: Bentuk Integer, merupakan jumlah token yang digenerate dari prompt yang masuk.\n",
        "        start_tokens: List integer, token yang mengindikasikan prompt yang masuk.\n",
        "        top_k: Integer, sampel dari top prediksi token.\n",
        "        print_every: Integer, menampilkan data setelah berapa kali epoch yang dilakukan.\n",
        "    \"\"\"\n",
        "    def __init__(self, max_tokens, start_tokens, tokenizer, top_k=10, print_every=1):\n",
        "        self.max_tokens = max_tokens\n",
        "        self.start_tokens = start_tokens\n",
        "        self.tokenizer = tokenizer\n",
        "        self.print_every = print_every\n",
        "        self.k = top_k\n",
        "\n",
        "    def sample_from(self, logits):\n",
        "        logits, indices = tf.math.top_k(logits, k=self.k, sorted=True)\n",
        "        indices = np.asarray(indices).astype(\"int32\")\n",
        "        preds = keras.activations.softmax(tf.expand_dims(logits, 0))[0]\n",
        "        preds = np.asarray(preds).astype(\"float32\")\n",
        "        return np.random.choice(indices, p=preds)\n",
        "\n",
        "    def on_epoch_end(self, epoch, logs=None):\n",
        "        if (epoch + 1) % self.print_every != 0:\n",
        "            return\n",
        "\n",
        "        start_tokens = list(self.start_tokens)\n",
        "        tokens_generated = []\n",
        "\n",
        "        while len(tokens_generated) <= self.max_tokens:\n",
        "            x_input = start_tokens + [0] * (sequence_length - len(start_tokens))\n",
        "            x = np.array([x_input[:sequence_length]])\n",
        "            y = self.model.predict(x, verbose=0)\n",
        "            next_token = self.sample_from(y[0, len(start_tokens) - 1])\n",
        "            tokens_generated.append(next_token)\n",
        "            start_tokens.append(next_token)\n",
        "\n",
        "        # Gabungkan semua token dan decode jadi teks\n",
        "        all_tokens = self.start_tokens + tokens_generated\n",
        "        decoded_text = self.tokenizer.decode(all_tokens, skip_special_tokens=True)\n",
        "        print(f\"\\nGenerated text (epoch {epoch+1}):\\n{decoded_text}\\n\")\n"
      ],
      "metadata": {
        "id": "oeLWRQoMSFkj"
      },
      "execution_count": null,
      "outputs": []
    },
    {
      "cell_type": "markdown",
      "source": [
        "`TextGenerator` ini merupakan callback yang dibuat untuk melakukan generate headline dari model yang telah dilatih selama proses training. step yang dilakukan adalah sebagai berikut :\n",
        "\n",
        "1. **Initialization:** set parameter yang diperlukan:\n",
        "\n",
        "- **max_tokens:** banyak token untuk melakukan generate headline dari promt.\n",
        "- **start_tokens:** Token awal sebagai titik awal dari proses generate headline.\n",
        "- **top_k:** Limit sampling dari preidiksi top k token.\n",
        "- **print_every:** Banyaknya epoch yang diperlukan untuk melakukan generate headline.\n",
        "- **Text Sampling:** memilih token berikutnya dari probabilitas prediksi dari model. yang berfokus pada top k token yang sering muncul.\n",
        "\n",
        "2. **Token Conversion:** detokenize untuk mengubah deretan indeks token ini menjadi kata dengan bantuan mapping yang telah disusun.\n",
        "\n",
        "3. **Text Generation:** menghasilkan teks baru dari token awal, lalu melakukan prediksi tiap token hingga mencapai panjang text yang diinginkan. lalu hasil teks akan ditampilkan setelah epoch yang dilakukan selama proses training.\n",
        "\n",
        "bagian ini membantu pengamat dalam mengamai dan mengevaluasi model selama proses pelatihan, dimana selain melihat loss dari proses training, kita juga dapat melihat hasil generated text secara langsung selama proses pelatihan."
      ],
      "metadata": {
        "id": "vNO3JY_nQ1OG"
      }
    },
    {
      "cell_type": "code",
      "source": [
        "# Memanggil tokenizer dan mengubah menjadi text\n",
        "vocab = tokenizer.get_vocab()\n",
        "index_to_word = {v: k for k, v in vocab.items()}\n",
        "\n",
        "start_prompt = \"blockchain\"\n",
        "start_tokens = tokenizer.encode(start_prompt, add_special_tokens=False)\n",
        "\n",
        "text_gen_callback = TextGenerator(\n",
        "    max_tokens=40,\n",
        "    start_tokens=start_tokens,\n",
        "    tokenizer=tokenizer\n",
        ")\n"
      ],
      "metadata": {
        "id": "3WVC7p29Tl-S"
      },
      "execution_count": null,
      "outputs": []
    },
    {
      "cell_type": "markdown",
      "source": [
        "#Model 1"
      ],
      "metadata": {
        "id": "qlMElMu9NaXG"
      }
    },
    {
      "cell_type": "markdown",
      "source": [
        "##Melatih model 1"
      ],
      "metadata": {
        "id": "SkFDeEO5L0SS"
      }
    },
    {
      "cell_type": "markdown",
      "source": [
        "parameter\n",
        "\n",
        "*   num_heads=2\n",
        "*   ff_dim=64\n",
        "\n"
      ],
      "metadata": {
        "id": "MCMgjhxcL-Q5"
      }
    },
    {
      "cell_type": "code",
      "source": [
        "# Melatih Model yang sudah dibuat\n",
        "history1 = model.fit(\n",
        "    train_ds,\n",
        "    validation_data=test_ds,\n",
        "    epochs=20,\n",
        "    callbacks=[text_gen_callback]\n",
        ")\n"
      ],
      "metadata": {
        "colab": {
          "base_uri": "https://localhost:8080/"
        },
        "id": "qT7N6581TolZ",
        "outputId": "8cd2c30d-bd59-404e-ed36-c1918f68fdff"
      },
      "execution_count": null,
      "outputs": [
        {
          "output_type": "stream",
          "name": "stdout",
          "text": [
            "Epoch 1/20\n",
            "\u001b[1m17/17\u001b[0m \u001b[32m━━━━━━━━━━━━━━━━━━━━\u001b[0m\u001b[37m\u001b[0m \u001b[1m0s\u001b[0m 420ms/step - accuracy: 0.6672 - loss: 9.2361\n",
            "Generated text (epoch 1):\n",
            "blockchain : for in : of in and : and a of - in the a in the in : in for in. : the : for in for of\n",
            "\n",
            "\u001b[1m17/17\u001b[0m \u001b[32m━━━━━━━━━━━━━━━━━━━━\u001b[0m\u001b[37m\u001b[0m \u001b[1m24s\u001b[0m 809ms/step - accuracy: 0.6739 - loss: 9.1904 - val_accuracy: 0.8407 - val_loss: 6.3904\n",
            "Epoch 2/20\n",
            "\u001b[1m16/17\u001b[0m \u001b[32m━━━━━━━━━━━━━━━━━━\u001b[0m\u001b[37m━━\u001b[0m \u001b[1m0s\u001b[0m 57ms/step - accuracy: 0.8369 - loss: 5.6279\n",
            "Generated text (epoch 2):\n",
            "blockchain the. - in the the in and of in the in and of :\n",
            "\n",
            "\u001b[1m17/17\u001b[0m \u001b[32m━━━━━━━━━━━━━━━━━━━━\u001b[0m\u001b[37m\u001b[0m \u001b[1m6s\u001b[0m 235ms/step - accuracy: 0.8370 - loss: 5.5310 - val_accuracy: 0.8407 - val_loss: 2.7754\n",
            "Epoch 3/20\n",
            "\u001b[1m16/17\u001b[0m \u001b[32m━━━━━━━━━━━━━━━━━━\u001b[0m\u001b[37m━━\u001b[0m \u001b[1m0s\u001b[0m 59ms/step - accuracy: 0.8370 - loss: 2.2139\n",
            "Generated text (epoch 3):\n",
            "blockchain in :\n",
            "\n",
            "\u001b[1m17/17\u001b[0m \u001b[32m━━━━━━━━━━━━━━━━━━━━\u001b[0m\u001b[37m\u001b[0m \u001b[1m4s\u001b[0m 238ms/step - accuracy: 0.8370 - loss: 2.1613 - val_accuracy: 0.8407 - val_loss: 1.0929\n",
            "Epoch 4/20\n",
            "\u001b[1m16/17\u001b[0m \u001b[32m━━━━━━━━━━━━━━━━━━\u001b[0m\u001b[37m━━\u001b[0m \u001b[1m0s\u001b[0m 60ms/step - accuracy: 0.8381 - loss: 1.0377\n",
            "Generated text (epoch 4):\n",
            "blockchain and :\n",
            "\n",
            "\u001b[1m17/17\u001b[0m \u001b[32m━━━━━━━━━━━━━━━━━━━━\u001b[0m\u001b[37m\u001b[0m \u001b[1m6s\u001b[0m 291ms/step - accuracy: 0.8387 - loss: 1.0326 - val_accuracy: 0.8632 - val_loss: 0.9279\n",
            "Epoch 5/20\n",
            "\u001b[1m16/17\u001b[0m \u001b[32m━━━━━━━━━━━━━━━━━━\u001b[0m\u001b[37m━━\u001b[0m \u001b[1m0s\u001b[0m 59ms/step - accuracy: 0.8628 - loss: 0.8869\n",
            "Generated text (epoch 5):\n",
            "blockchain : the benefits in\n",
            "\n",
            "\u001b[1m17/17\u001b[0m \u001b[32m━━━━━━━━━━━━━━━━━━━━\u001b[0m\u001b[37m\u001b[0m \u001b[1m4s\u001b[0m 237ms/step - accuracy: 0.8631 - loss: 0.8844 - val_accuracy: 0.8765 - val_loss: 0.8487\n",
            "Epoch 6/20\n",
            "\u001b[1m16/17\u001b[0m \u001b[32m━━━━━━━━━━━━━━━━━━\u001b[0m\u001b[37m━━\u001b[0m \u001b[1m0s\u001b[0m 60ms/step - accuracy: 0.8751 - loss: 0.7938\n",
            "Generated text (epoch 6):\n",
            "blockchain in sustainable energy and the impact\n",
            "\n",
            "\u001b[1m17/17\u001b[0m \u001b[32m━━━━━━━━━━━━━━━━━━━━\u001b[0m\u001b[37m\u001b[0m \u001b[1m4s\u001b[0m 237ms/step - accuracy: 0.8753 - loss: 0.7918 - val_accuracy: 0.8830 - val_loss: 0.7900\n",
            "Epoch 7/20\n",
            "\u001b[1m16/17\u001b[0m \u001b[32m━━━━━━━━━━━━━━━━━━\u001b[0m\u001b[37m━━\u001b[0m \u001b[1m0s\u001b[0m 63ms/step - accuracy: 0.8848 - loss: 0.7176\n",
            "Generated text (epoch 7):\n",
            "blockchain and sustainable - friendly\n",
            "\n",
            "\u001b[1m17/17\u001b[0m \u001b[32m━━━━━━━━━━━━━━━━━━━━\u001b[0m\u001b[37m\u001b[0m \u001b[1m5s\u001b[0m 314ms/step - accuracy: 0.8850 - loss: 0.7158 - val_accuracy: 0.8890 - val_loss: 0.7432\n",
            "Epoch 8/20\n",
            "\u001b[1m16/17\u001b[0m \u001b[32m━━━━━━━━━━━━━━━━━━\u001b[0m\u001b[37m━━\u001b[0m \u001b[1m0s\u001b[0m 61ms/step - accuracy: 0.8944 - loss: 0.6521\n",
            "Generated text (epoch 8):\n",
            "blockchain - efficient for the power of reducing plastic.\n",
            "\n",
            "\u001b[1m17/17\u001b[0m \u001b[32m━━━━━━━━━━━━━━━━━━━━\u001b[0m\u001b[37m\u001b[0m \u001b[1m4s\u001b[0m 243ms/step - accuracy: 0.8946 - loss: 0.6505 - val_accuracy: 0.8945 - val_loss: 0.7078\n",
            "Epoch 9/20\n",
            "\u001b[1m16/17\u001b[0m \u001b[32m━━━━━━━━━━━━━━━━━━\u001b[0m\u001b[37m━━\u001b[0m \u001b[1m0s\u001b[0m 63ms/step - accuracy: 0.9005 - loss: 0.5967\n",
            "Generated text (epoch 9):\n",
            "blockchain - friendly : the digital age : protecting the power\n",
            "\n",
            "\u001b[1m17/17\u001b[0m \u001b[32m━━━━━━━━━━━━━━━━━━━━\u001b[0m\u001b[37m\u001b[0m \u001b[1m4s\u001b[0m 243ms/step - accuracy: 0.9006 - loss: 0.5954 - val_accuracy: 0.8970 - val_loss: 0.6784\n",
            "Epoch 10/20\n",
            "\u001b[1m16/17\u001b[0m \u001b[32m━━━━━━━━━━━━━━━━━━\u001b[0m\u001b[37m━━\u001b[0m \u001b[1m0s\u001b[0m 61ms/step - accuracy: 0.9060 - loss: 0.5512\n",
            "Generated text (epoch 10):\n",
            "blockchain in eco - care : the world\n",
            "\n",
            "\u001b[1m17/17\u001b[0m \u001b[32m━━━━━━━━━━━━━━━━━━━━\u001b[0m\u001b[37m\u001b[0m \u001b[1m5s\u001b[0m 307ms/step - accuracy: 0.9061 - loss: 0.5500 - val_accuracy: 0.8990 - val_loss: 0.6572\n",
            "Epoch 11/20\n",
            "\u001b[1m16/17\u001b[0m \u001b[32m━━━━━━━━━━━━━━━━━━\u001b[0m\u001b[37m━━\u001b[0m \u001b[1m0s\u001b[0m 62ms/step - accuracy: 0.9093 - loss: 0.5123\n",
            "Generated text (epoch 11):\n",
            "blockchain and the fashion : keys to a digital age\n",
            "\n",
            "\u001b[1m17/17\u001b[0m \u001b[32m━━━━━━━━━━━━━━━━━━━━\u001b[0m\u001b[37m\u001b[0m \u001b[1m4s\u001b[0m 246ms/step - accuracy: 0.9095 - loss: 0.5113 - val_accuracy: 0.9010 - val_loss: 0.6408\n",
            "Epoch 12/20\n",
            "\u001b[1m16/17\u001b[0m \u001b[32m━━━━━━━━━━━━━━━━━━\u001b[0m\u001b[37m━━\u001b[0m \u001b[1m0s\u001b[0m 61ms/step - accuracy: 0.9136 - loss: 0.4780\n",
            "Generated text (epoch 12):\n",
            "blockchain in the digital world : a more and sustainable energy efficiency.\n",
            "\n",
            "\u001b[1m17/17\u001b[0m \u001b[32m━━━━━━━━━━━━━━━━━━━━\u001b[0m\u001b[37m\u001b[0m \u001b[1m4s\u001b[0m 249ms/step - accuracy: 0.9138 - loss: 0.4771 - val_accuracy: 0.9031 - val_loss: 0.6278\n",
            "Epoch 13/20\n",
            "\u001b[1m16/17\u001b[0m \u001b[32m━━━━━━━━━━━━━━━━━━\u001b[0m\u001b[37m━━\u001b[0m \u001b[1m0s\u001b[0m 62ms/step - accuracy: 0.9174 - loss: 0.4476\n",
            "Generated text (epoch 13):\n",
            "blockchain technology in eco - being in the revolution\n",
            "\n",
            "\u001b[1m17/17\u001b[0m \u001b[32m━━━━━━━━━━━━━━━━━━━━\u001b[0m\u001b[37m\u001b[0m \u001b[1m5s\u001b[0m 312ms/step - accuracy: 0.9175 - loss: 0.4467 - val_accuracy: 0.9053 - val_loss: 0.6201\n",
            "Epoch 14/20\n",
            "\u001b[1m16/17\u001b[0m \u001b[32m━━━━━━━━━━━━━━━━━━\u001b[0m\u001b[37m━━\u001b[0m \u001b[1m0s\u001b[0m 63ms/step - accuracy: 0.9227 - loss: 0.4211\n",
            "Generated text (epoch 14):\n",
            "blockchain in urban mobility : reducing environmental impact on a more conscious cities\n",
            "\n",
            "\u001b[1m17/17\u001b[0m \u001b[32m━━━━━━━━━━━━━━━━━━━━\u001b[0m\u001b[37m\u001b[0m \u001b[1m5s\u001b[0m 291ms/step - accuracy: 0.9227 - loss: 0.4202 - val_accuracy: 0.9055 - val_loss: 0.6114\n",
            "Epoch 15/20\n",
            "\u001b[1m16/17\u001b[0m \u001b[32m━━━━━━━━━━━━━━━━━━\u001b[0m\u001b[37m━━\u001b[0m \u001b[1m0s\u001b[0m 63ms/step - accuracy: 0.9248 - loss: 0.3970\n",
            "Generated text (epoch 15):\n",
            "blockchain technology and the revolution of smart grids\n",
            "\n",
            "\u001b[1m17/17\u001b[0m \u001b[32m━━━━━━━━━━━━━━━━━━━━\u001b[0m\u001b[37m\u001b[0m \u001b[1m6s\u001b[0m 317ms/step - accuracy: 0.9248 - loss: 0.3963 - val_accuracy: 0.9066 - val_loss: 0.6075\n",
            "Epoch 16/20\n",
            "\u001b[1m16/17\u001b[0m \u001b[32m━━━━━━━━━━━━━━━━━━\u001b[0m\u001b[37m━━\u001b[0m \u001b[1m0s\u001b[0m 62ms/step - accuracy: 0.9283 - loss: 0.3750\n",
            "Generated text (epoch 16):\n",
            "blockchain technology and efficient agriculture\n",
            "\n",
            "\u001b[1m17/17\u001b[0m \u001b[32m━━━━━━━━━━━━━━━━━━━━\u001b[0m\u001b[37m\u001b[0m \u001b[1m9s\u001b[0m 247ms/step - accuracy: 0.9283 - loss: 0.3743 - val_accuracy: 0.9087 - val_loss: 0.6008\n",
            "Epoch 17/20\n",
            "\u001b[1m16/17\u001b[0m \u001b[32m━━━━━━━━━━━━━━━━━━\u001b[0m\u001b[37m━━\u001b[0m \u001b[1m0s\u001b[0m 61ms/step - accuracy: 0.9307 - loss: 0.3540\n",
            "Generated text (epoch 17):\n",
            "blockchain in eco - friendly transportation systems as a growing growing trend\n",
            "\n",
            "\u001b[1m17/17\u001b[0m \u001b[32m━━━━━━━━━━━━━━━━━━━━\u001b[0m\u001b[37m\u001b[0m \u001b[1m5s\u001b[0m 322ms/step - accuracy: 0.9308 - loss: 0.3535 - val_accuracy: 0.9081 - val_loss: 0.5979\n",
            "Epoch 18/20\n",
            "\u001b[1m16/17\u001b[0m \u001b[32m━━━━━━━━━━━━━━━━━━\u001b[0m\u001b[37m━━\u001b[0m \u001b[1m0s\u001b[0m 61ms/step - accuracy: 0.9342 - loss: 0.3358\n",
            "Generated text (epoch 18):\n",
            "blockchain technology and their impact on reducing plastic waste.\n",
            "\n",
            "\u001b[1m17/17\u001b[0m \u001b[32m━━━━━━━━━━━━━━━━━━━━\u001b[0m\u001b[37m\u001b[0m \u001b[1m4s\u001b[0m 253ms/step - accuracy: 0.9342 - loss: 0.3351 - val_accuracy: 0.9090 - val_loss: 0.5930\n",
            "Epoch 19/20\n",
            "\u001b[1m16/17\u001b[0m \u001b[32m━━━━━━━━━━━━━━━━━━\u001b[0m\u001b[37m━━\u001b[0m \u001b[1m0s\u001b[0m 61ms/step - accuracy: 0.9366 - loss: 0.3165\n",
            "Generated text (epoch 19):\n",
            "blockchain technology and its impact on therapies\n",
            "\n",
            "\u001b[1m17/17\u001b[0m \u001b[32m━━━━━━━━━━━━━━━━━━━━\u001b[0m\u001b[37m\u001b[0m \u001b[1m5s\u001b[0m 250ms/step - accuracy: 0.9366 - loss: 0.3159 - val_accuracy: 0.9105 - val_loss: 0.5903\n",
            "Epoch 20/20\n",
            "\u001b[1m16/17\u001b[0m \u001b[32m━━━━━━━━━━━━━━━━━━\u001b[0m\u001b[37m━━\u001b[0m \u001b[1m0s\u001b[0m 63ms/step - accuracy: 0.9386 - loss: 0.2999\n",
            "Generated text (epoch 20):\n",
            "blockchain technology and biodiversity in the planet\n",
            "\n",
            "\u001b[1m17/17\u001b[0m \u001b[32m━━━━━━━━━━━━━━━━━━━━\u001b[0m\u001b[37m\u001b[0m \u001b[1m5s\u001b[0m 305ms/step - accuracy: 0.9387 - loss: 0.2995 - val_accuracy: 0.9102 - val_loss: 0.5907\n"
          ]
        }
      ]
    },
    {
      "cell_type": "markdown",
      "source": [
        "Pada bagian ini dilakukan pembuatan model hasil konfigurasi model berupa arsitektur transformer yang telah dibuat. Model akan dilatih dengan menggunakan dataset dari text_ds yang telah diproses sebagai input pada model.\n",
        "\n",
        "- Pelatihan dilakukan sebanyak **20 epoch**\n",
        "- callback yang digunakan menggunakan custom call back yang telah kita buat. bagian ini akan menghasilkan **headline** secara langsung tiap 1 epoch yang telah dilakukan,\n",
        "\n",
        "bagian ini dilakukan dengan tujuan agar pengguna dapat melihat hasil generate headline dan memberikan feed back secara langsung dari hasil pembelajaran dari model yang telah dibuat."
      ],
      "metadata": {
        "id": "7Wvgbs3WRHJG"
      }
    },
    {
      "cell_type": "markdown",
      "source": [
        "## Evaluasi Model 1"
      ],
      "metadata": {
        "id": "isZIEyllMLFf"
      }
    },
    {
      "cell_type": "markdown",
      "source": [
        "### Evaluasi : loss"
      ],
      "metadata": {
        "id": "zgjcII8lMTFy"
      }
    },
    {
      "cell_type": "code",
      "source": [
        "#  Evaluasi: function loss\n",
        "loss, acc = model.evaluate(test_ds)\n",
        "print(f\"\\nFinal Loss: {loss:.4f} | Final Accuracy: {acc:.4f}\")"
      ],
      "metadata": {
        "colab": {
          "base_uri": "https://localhost:8080/"
        },
        "id": "RC6x-XsojSnB",
        "outputId": "60f4c934-7f21-405b-8d97-53d51074333c"
      },
      "execution_count": null,
      "outputs": [
        {
          "output_type": "stream",
          "name": "stdout",
          "text": [
            "\u001b[1m5/5\u001b[0m \u001b[32m━━━━━━━━━━━━━━━━━━━━\u001b[0m\u001b[37m\u001b[0m \u001b[1m0s\u001b[0m 21ms/step - accuracy: 0.9118 - loss: 0.5783\n",
            "\n",
            "Final Loss: 0.5907 | Final Accuracy: 0.9102\n"
          ]
        }
      ]
    },
    {
      "cell_type": "markdown",
      "source": [
        "Melakukn evaluasi dari loss pada proses training dengan data test. didapatkan model menghasilkan performa yang cukup baik dari segi training dan test dengan data test"
      ],
      "metadata": {
        "id": "kae4NTxiOjNy"
      }
    },
    {
      "cell_type": "markdown",
      "source": [
        "### Evaluasi : Purplexity"
      ],
      "metadata": {
        "id": "EwrWcvV0Mps4"
      }
    },
    {
      "cell_type": "code",
      "source": [
        "# Purplexity - Evaluasi\n",
        "# Ambil loss validasi terakhir\n",
        "val_loss = history1.history['val_loss'][-1]\n",
        "\n",
        "# Hitung perplexity\n",
        "perplexity = np.exp(val_loss)\n",
        "\n",
        "print(f\"Perplexity: {perplexity:.4f}\")"
      ],
      "metadata": {
        "colab": {
          "base_uri": "https://localhost:8080/"
        },
        "id": "TMTC2CzOBZPo",
        "outputId": "c5c0e536-af50-4ca3-bac3-3abe50f2788b"
      },
      "execution_count": null,
      "outputs": [
        {
          "output_type": "stream",
          "name": "stdout",
          "text": [
            "Perplexity: 1.8053\n"
          ]
        }
      ]
    },
    {
      "cell_type": "markdown",
      "source": [
        "Perplexity yang rendah ini menunjukkan bahwa model cukup confidence dalam memprediksi kata selanjutnya sehingga bisa dilihat bahwa model dapat merangkai kata demi kata dengan baik."
      ],
      "metadata": {
        "id": "EUaJPhiKOxSe"
      }
    },
    {
      "cell_type": "markdown",
      "source": [
        "### Text predict untuk generate kata"
      ],
      "metadata": {
        "id": "cNH5CWEAMt5J"
      }
    },
    {
      "cell_type": "code",
      "source": [
        "class TextPredict:\n",
        "    \"\"\"call back untuk generate text dari model yang sudah di train.\n",
        "\n",
        "    parameter:\n",
        "        max_tokens: Bentuk Integer, merupakan jumlah token yang digenerate dari prompt yang masuk.\n",
        "        start_tokens: List integer, token yang mengindikasikan prompt yang masuk.\n",
        "        top_k: Integer, sampel dari top prediksi token.\n",
        "        print_every: Integer, menampilkan data setelah berapa kali epoch yang dilakukan.\n",
        "    \"\"\"\n",
        "    def __init__(self, model, max_tokens, start_tokens, tokenizer, top_k=10):\n",
        "        self.model = model\n",
        "        self.max_tokens = max_tokens\n",
        "        self.start_tokens = start_tokens\n",
        "        self.tokenizer = tokenizer\n",
        "        self.k = top_k\n",
        "\n",
        "    def sample_from(self, logits):\n",
        "        logits, indices = tf.math.top_k(logits, k=self.k, sorted=True)\n",
        "        indices = np.asarray(indices).astype(\"int32\")\n",
        "        preds = keras.activations.softmax(tf.expand_dims(logits, 0))[0]\n",
        "        preds = np.asarray(preds).astype(\"float32\")\n",
        "        return np.random.choice(indices, p=preds)\n",
        "\n",
        "    def generate(self):\n",
        "        start_tokens = list(self.start_tokens)\n",
        "        tokens_generated = []\n",
        "\n",
        "        while len(tokens_generated) <= self.max_tokens:\n",
        "            padded_input = start_tokens + [0] * (sequence_length - len(start_tokens))\n",
        "            x = np.array([padded_input[:sequence_length]])\n",
        "            y = self.model.predict(x, verbose=0)\n",
        "            next_token = self.sample_from(y[0, len(start_tokens) - 1])\n",
        "            tokens_generated.append(next_token)\n",
        "            start_tokens.append(next_token)\n",
        "\n",
        "        all_tokens = self.start_tokens + tokens_generated\n",
        "        decoded_text = self.tokenizer.decode(all_tokens, skip_special_tokens=True)\n",
        "        print(f\"\\nGenerated text:\\n{decoded_text}\\n\")"
      ],
      "metadata": {
        "id": "P2mExamwl3au"
      },
      "execution_count": null,
      "outputs": []
    },
    {
      "cell_type": "markdown",
      "source": [
        "`TextPredict` ini merupakan callback yang dibuat untuk melakukan generate headline dari model yang telah dilatih selama proses training. step yang dilakukan adalah sebagai berikut :\n",
        "\n",
        "1. **Initialization:** set parameter yang diperlukan:\n",
        "\n",
        "- **max_tokens:** banyak token untuk melakukan generate headline dari promt.\n",
        "- **start_tokens:** Token awal sebagai titik awal dari proses generate headline.\n",
        "- **top_k:** Limit sampling dari preidiksi top k token.\n",
        "- **print_every:** Banyaknya epoch yang diperlukan untuk melakukan generate headline.\n",
        "\n",
        "2. **Detokenizing:** detokenize untuk mengubah deretan indeks token ini menjadi kata dengan bantuan mapping yang telah disusun.\n",
        "\n",
        "3. **Text Generation:** menghasilkan teks baru dari token awal, lalu melakukan prediksi tiap token hingga mencapai panjang text yang diinginkan. lalu hasil teks akan ditampilkan setelah epoch yang dilakukan selama proses training.\n",
        "\n",
        "bagian ini membantu pengamat dalam mengamai dan mengevaluasi model setelah proses pelatihan, dimana selain melihat loss dari proses training, kita juga dapat melihat hasil generated text secara langsung."
      ],
      "metadata": {
        "id": "kGNWNEwyRe2V"
      }
    },
    {
      "cell_type": "code",
      "source": [
        "num_tokens_generated = 20\n",
        "\n",
        "def generateHeadling(start_prompt):\n",
        "    # Tokenisasi prompt untuk menampilkan informasi dari token\n",
        "    encoded = tokenizer.encode_plus(\n",
        "        start_prompt,\n",
        "        add_special_tokens=False,\n",
        "        return_attention_mask=False,\n",
        "        return_token_type_ids=False\n",
        "    )\n",
        "    tokens = tokenizer.convert_ids_to_tokens(encoded['input_ids'])\n",
        "\n",
        "    print(\"Prompt tokens:\", tokens)\n",
        "\n",
        "    # Menggunakan token ID sebagai start_tokens\n",
        "    start_tokens = encoded['input_ids']\n",
        "\n",
        "    # Menjalankan fungsi TextPredict\n",
        "    text_predict = TextPredict(\n",
        "        model=model,\n",
        "        max_tokens=num_tokens_generated,\n",
        "        start_tokens=start_tokens,\n",
        "        tokenizer=tokenizer\n",
        "    )\n",
        "    text_predict.generate()\n"
      ],
      "metadata": {
        "id": "IUAFC_oVmAdc"
      },
      "execution_count": null,
      "outputs": []
    },
    {
      "cell_type": "markdown",
      "source": [
        "Pada bagian ini, dilakukan generate headline dari model yang telah dilatih. Berikut adalah cara kerjanya :\n",
        "\n",
        "- Hal yang pertama dilakukan adalah melakukan mapping dari kara ke indeks kata. yang memungkinkan dilakukan perubahan teks promt menjadi bentuk numerik agar dapat diproses pada model\n",
        "\n",
        "- Lalu ditetapkan jumlah token yang dihasilkan setelah prompt awal. dilakukan proses penerimaan prompt menjadi input lalu mengubahnya menjadi token angka dengan menggunakan map kata ke indeks yang telah didefinisikan sebelumnya.\n",
        "\n",
        "- Selanjutnya dilakukan predict yang menghasilkan urutan token baru dari prompt input yang masuk. sehingga mengeluarkan output headline."
      ],
      "metadata": {
        "id": "eSfjH7dJSJ27"
      }
    },
    {
      "cell_type": "code",
      "source": [
        "# Generate Text:\n",
        "generateHeadling(\"intelligence\")"
      ],
      "metadata": {
        "colab": {
          "base_uri": "https://localhost:8080/"
        },
        "id": "8gotjLS8mEJy",
        "outputId": "4f5ba0f8-9296-4b49-96e2-8f8ac060c48e"
      },
      "execution_count": null,
      "outputs": [
        {
          "output_type": "stream",
          "name": "stdout",
          "text": [
            "Prompt tokens: ['intelligence']\n",
            "\n",
            "Generated text:\n",
            "intelligence sustainable fashion : a trend that promote a more sustainable cities\n",
            "\n"
          ]
        }
      ]
    },
    {
      "cell_type": "code",
      "source": [
        "# Generate Text:\n",
        "generateHeadling(\"industry\")"
      ],
      "metadata": {
        "colab": {
          "base_uri": "https://localhost:8080/"
        },
        "id": "uSqOfdocmG5A",
        "outputId": "93453e00-8b4c-43e0-9428-cee72094c1e9"
      },
      "execution_count": null,
      "outputs": [
        {
          "output_type": "stream",
          "name": "stdout",
          "text": [
            "Prompt tokens: ['industry']\n",
            "\n",
            "Generated text:\n",
            "industry systems for self - care and sustainable business leadership\n",
            "\n"
          ]
        }
      ]
    },
    {
      "cell_type": "code",
      "source": [
        "# Generate Text:\n",
        "generateHeadling(\"government\")"
      ],
      "metadata": {
        "colab": {
          "base_uri": "https://localhost:8080/"
        },
        "id": "FJIMI22ZmWZw",
        "outputId": "c0ab0c27-8432-4cea-e1d7-360a527cb2e2"
      },
      "execution_count": null,
      "outputs": [
        {
          "output_type": "stream",
          "name": "stdout",
          "text": [
            "Prompt tokens: ['government']\n",
            "\n",
            "Generated text:\n",
            "government the impact of electric public and reducing plastic pollution.\n",
            "\n"
          ]
        }
      ]
    },
    {
      "cell_type": "markdown",
      "source": [
        "Dari hasil generate ini, bisa dilihat jika hasil generate dapat dibaca dan kalimat ini memiliki representasi yang cukup baik"
      ],
      "metadata": {
        "id": "bQxlqv9UOGfD"
      }
    },
    {
      "cell_type": "markdown",
      "source": [
        "#Model 2"
      ],
      "metadata": {
        "id": "UQNxTuLpNseF"
      }
    },
    {
      "cell_type": "markdown",
      "source": [
        "beda hyperparameter heads=3, ff_dim=96"
      ],
      "metadata": {
        "id": "yWoUviFuxI1i"
      }
    },
    {
      "cell_type": "markdown",
      "source": [
        "sama halnya dengan model 1 baik dari segi training maupun evaluasi model, namun yang membedakan adalah konfigurasi hyperparameternya saja."
      ],
      "metadata": {
        "id": "s_LYE8nmO_07"
      }
    },
    {
      "cell_type": "markdown",
      "source": [
        "## Melatih model 2"
      ],
      "metadata": {
        "id": "nXbOzCErNzR5"
      }
    },
    {
      "cell_type": "code",
      "source": [
        "model2 = build_model(num_heads=3, ff_dim=96)\n",
        "model2.compile(optimizer='adam', loss=tf.keras.losses.SparseCategoricalCrossentropy(from_logits=True), metrics=['accuracy'])\n",
        "history2 = model2.fit(train_ds, validation_data=test_ds, epochs=20)"
      ],
      "metadata": {
        "colab": {
          "base_uri": "https://localhost:8080/"
        },
        "id": "yDTT90TBxLwj",
        "outputId": "ea3a1dad-410c-407e-cc1c-f44409feaacc"
      },
      "execution_count": null,
      "outputs": [
        {
          "output_type": "stream",
          "name": "stdout",
          "text": [
            "Epoch 1/20\n",
            "\u001b[1m17/17\u001b[0m \u001b[32m━━━━━━━━━━━━━━━━━━━━\u001b[0m\u001b[37m\u001b[0m \u001b[1m24s\u001b[0m 637ms/step - accuracy: 0.6740 - loss: 9.1302 - val_accuracy: 0.8407 - val_loss: 6.2495\n",
            "Epoch 2/20\n",
            "\u001b[1m17/17\u001b[0m \u001b[32m━━━━━━━━━━━━━━━━━━━━\u001b[0m\u001b[37m\u001b[0m \u001b[1m4s\u001b[0m 66ms/step - accuracy: 0.8370 - loss: 5.3870 - val_accuracy: 0.8407 - val_loss: 2.6163\n",
            "Epoch 3/20\n",
            "\u001b[1m17/17\u001b[0m \u001b[32m━━━━━━━━━━━━━━━━━━━━\u001b[0m\u001b[37m\u001b[0m \u001b[1m1s\u001b[0m 58ms/step - accuracy: 0.8370 - loss: 2.0603 - val_accuracy: 0.8407 - val_loss: 1.0981\n",
            "Epoch 4/20\n",
            "\u001b[1m17/17\u001b[0m \u001b[32m━━━━━━━━━━━━━━━━━━━━\u001b[0m\u001b[37m\u001b[0m \u001b[1m1s\u001b[0m 63ms/step - accuracy: 0.8374 - loss: 1.0439 - val_accuracy: 0.8594 - val_loss: 0.9355\n",
            "Epoch 5/20\n",
            "\u001b[1m17/17\u001b[0m \u001b[32m━━━━━━━━━━━━━━━━━━━━\u001b[0m\u001b[37m\u001b[0m \u001b[1m1s\u001b[0m 58ms/step - accuracy: 0.8585 - loss: 0.8934 - val_accuracy: 0.8738 - val_loss: 0.8527\n",
            "Epoch 6/20\n",
            "\u001b[1m17/17\u001b[0m \u001b[32m━━━━━━━━━━━━━━━━━━━━\u001b[0m\u001b[37m\u001b[0m \u001b[1m1s\u001b[0m 58ms/step - accuracy: 0.8723 - loss: 0.7981 - val_accuracy: 0.8810 - val_loss: 0.7939\n",
            "Epoch 7/20\n",
            "\u001b[1m17/17\u001b[0m \u001b[32m━━━━━━━━━━━━━━━━━━━━\u001b[0m\u001b[37m\u001b[0m \u001b[1m1s\u001b[0m 59ms/step - accuracy: 0.8829 - loss: 0.7222 - val_accuracy: 0.8879 - val_loss: 0.7474\n",
            "Epoch 8/20\n",
            "\u001b[1m17/17\u001b[0m \u001b[32m━━━━━━━━━━━━━━━━━━━━\u001b[0m\u001b[37m\u001b[0m \u001b[1m1s\u001b[0m 58ms/step - accuracy: 0.8925 - loss: 0.6574 - val_accuracy: 0.8940 - val_loss: 0.7118\n",
            "Epoch 9/20\n",
            "\u001b[1m17/17\u001b[0m \u001b[32m━━━━━━━━━━━━━━━━━━━━\u001b[0m\u001b[37m\u001b[0m \u001b[1m1s\u001b[0m 63ms/step - accuracy: 0.9003 - loss: 0.6023 - val_accuracy: 0.8962 - val_loss: 0.6850\n",
            "Epoch 10/20\n",
            "\u001b[1m17/17\u001b[0m \u001b[32m━━━━━━━━━━━━━━━━━━━━\u001b[0m\u001b[37m\u001b[0m \u001b[1m1s\u001b[0m 63ms/step - accuracy: 0.9054 - loss: 0.5574 - val_accuracy: 0.8990 - val_loss: 0.6606\n",
            "Epoch 11/20\n",
            "\u001b[1m17/17\u001b[0m \u001b[32m━━━━━━━━━━━━━━━━━━━━\u001b[0m\u001b[37m\u001b[0m \u001b[1m1s\u001b[0m 64ms/step - accuracy: 0.9087 - loss: 0.5179 - val_accuracy: 0.9019 - val_loss: 0.6432\n",
            "Epoch 12/20\n",
            "\u001b[1m17/17\u001b[0m \u001b[32m━━━━━━━━━━━━━━━━━━━━\u001b[0m\u001b[37m\u001b[0m \u001b[1m1s\u001b[0m 60ms/step - accuracy: 0.9133 - loss: 0.4817 - val_accuracy: 0.9028 - val_loss: 0.6300\n",
            "Epoch 13/20\n",
            "\u001b[1m17/17\u001b[0m \u001b[32m━━━━━━━━━━━━━━━━━━━━\u001b[0m\u001b[37m\u001b[0m \u001b[1m1s\u001b[0m 59ms/step - accuracy: 0.9169 - loss: 0.4512 - val_accuracy: 0.9041 - val_loss: 0.6200\n",
            "Epoch 14/20\n",
            "\u001b[1m17/17\u001b[0m \u001b[32m━━━━━━━━━━━━━━━━━━━━\u001b[0m\u001b[37m\u001b[0m \u001b[1m1s\u001b[0m 59ms/step - accuracy: 0.9218 - loss: 0.4225 - val_accuracy: 0.9056 - val_loss: 0.6115\n",
            "Epoch 15/20\n",
            "\u001b[1m17/17\u001b[0m \u001b[32m━━━━━━━━━━━━━━━━━━━━\u001b[0m\u001b[37m\u001b[0m \u001b[1m1s\u001b[0m 59ms/step - accuracy: 0.9262 - loss: 0.3962 - val_accuracy: 0.9077 - val_loss: 0.6035\n",
            "Epoch 16/20\n",
            "\u001b[1m17/17\u001b[0m \u001b[32m━━━━━━━━━━━━━━━━━━━━\u001b[0m\u001b[37m\u001b[0m \u001b[1m1s\u001b[0m 59ms/step - accuracy: 0.9292 - loss: 0.3731 - val_accuracy: 0.9080 - val_loss: 0.6007\n",
            "Epoch 17/20\n",
            "\u001b[1m17/17\u001b[0m \u001b[32m━━━━━━━━━━━━━━━━━━━━\u001b[0m\u001b[37m\u001b[0m \u001b[1m1s\u001b[0m 59ms/step - accuracy: 0.9316 - loss: 0.3518 - val_accuracy: 0.9093 - val_loss: 0.5971\n",
            "Epoch 18/20\n",
            "\u001b[1m17/17\u001b[0m \u001b[32m━━━━━━━━━━━━━━━━━━━━\u001b[0m\u001b[37m\u001b[0m \u001b[1m1s\u001b[0m 63ms/step - accuracy: 0.9347 - loss: 0.3315 - val_accuracy: 0.9096 - val_loss: 0.5922\n",
            "Epoch 19/20\n",
            "\u001b[1m17/17\u001b[0m \u001b[32m━━━━━━━━━━━━━━━━━━━━\u001b[0m\u001b[37m\u001b[0m \u001b[1m1s\u001b[0m 60ms/step - accuracy: 0.9364 - loss: 0.3145 - val_accuracy: 0.9097 - val_loss: 0.5911\n",
            "Epoch 20/20\n",
            "\u001b[1m17/17\u001b[0m \u001b[32m━━━━━━━━━━━━━━━━━━━━\u001b[0m\u001b[37m\u001b[0m \u001b[1m1s\u001b[0m 59ms/step - accuracy: 0.9397 - loss: 0.2987 - val_accuracy: 0.9085 - val_loss: 0.5922\n"
          ]
        }
      ]
    },
    {
      "cell_type": "markdown",
      "source": [
        "##Evaluasi Model 2"
      ],
      "metadata": {
        "id": "P8r6vH-IN5wR"
      }
    },
    {
      "cell_type": "markdown",
      "source": [
        "###Evaluasi : loss"
      ],
      "metadata": {
        "id": "K1s3UsvoN-eN"
      }
    },
    {
      "cell_type": "code",
      "source": [
        "#  Evaluation: Accuracy, Loss\n",
        "loss, acc = model2.evaluate(test_ds)\n",
        "print(f\"\\nFinal Loss: {loss:.4f} | Final Accuracy: {acc:.4f}\")"
      ],
      "metadata": {
        "colab": {
          "base_uri": "https://localhost:8080/"
        },
        "id": "y8kp2R99yIj7",
        "outputId": "1f04e579-17ad-47ea-9e3b-05566ccdb640"
      },
      "execution_count": null,
      "outputs": [
        {
          "output_type": "stream",
          "name": "stdout",
          "text": [
            "\u001b[1m5/5\u001b[0m \u001b[32m━━━━━━━━━━━━━━━━━━━━\u001b[0m\u001b[37m\u001b[0m \u001b[1m0s\u001b[0m 22ms/step - accuracy: 0.9110 - loss: 0.5794\n",
            "\n",
            "Final Loss: 0.5922 | Final Accuracy: 0.9085\n"
          ]
        }
      ]
    },
    {
      "cell_type": "markdown",
      "source": [
        "### Evaluasi : Purplexity"
      ],
      "metadata": {
        "id": "q8Ij-LCVODU-"
      }
    },
    {
      "cell_type": "code",
      "source": [
        "# Purplexity - Evaluasi\n",
        "# Ambil loss validasi terakhir\n",
        "val_loss = history1.history['val_loss'][-1]\n",
        "\n",
        "# Hitung perplexity\n",
        "perplexity = np.exp(val_loss)\n",
        "\n",
        "print(f\"Perplexity: {perplexity:.4f}\")"
      ],
      "metadata": {
        "colab": {
          "base_uri": "https://localhost:8080/"
        },
        "id": "ackYqcZ6CN6O",
        "outputId": "30c3684c-b326-4a8a-fe2b-9c6b2dd6f3b3"
      },
      "execution_count": null,
      "outputs": [
        {
          "output_type": "stream",
          "name": "stdout",
          "text": [
            "Perplexity: 1.8080\n"
          ]
        }
      ]
    },
    {
      "cell_type": "markdown",
      "source": [
        "Model 2 ini memiliki performa lebih rendah dibandingkan dengan model 1. Namun dari keseluruhan, model ini dapat bekerja dengan baik"
      ],
      "metadata": {
        "id": "L4wly4chP1_C"
      }
    },
    {
      "cell_type": "markdown",
      "source": [
        "#Model 3"
      ],
      "metadata": {
        "id": "5riM7A88OLga"
      }
    },
    {
      "cell_type": "markdown",
      "source": [
        "beda hyperparameter heads=4, ff_dim=128"
      ],
      "metadata": {
        "id": "z_1ARwj5yP4Z"
      }
    },
    {
      "cell_type": "markdown",
      "source": [
        "sama halnya dengan model 1 dan 2 baik dari segi training maupun evaluasi model, namun yang membedakan adalah konfigurasi hyperparameternya saja."
      ],
      "metadata": {
        "id": "6C_02qQOPcqQ"
      }
    },
    {
      "cell_type": "markdown",
      "source": [
        "## Melatih model 3"
      ],
      "metadata": {
        "id": "EaT-X9HJOQwE"
      }
    },
    {
      "cell_type": "code",
      "source": [
        "model3 = build_model(num_heads=4, ff_dim=128)\n",
        "model3.compile(optimizer='adam', loss=tf.keras.losses.SparseCategoricalCrossentropy(from_logits=True), metrics=['accuracy'])\n",
        "history3 = model3.fit(train_ds, validation_data=test_ds, epochs=20)"
      ],
      "metadata": {
        "colab": {
          "base_uri": "https://localhost:8080/"
        },
        "id": "-NDjNBiIyUkF",
        "outputId": "36cc6fc9-ccd6-4f9c-ea3a-db0ea605431a"
      },
      "execution_count": null,
      "outputs": [
        {
          "output_type": "stream",
          "name": "stdout",
          "text": [
            "Epoch 1/20\n",
            "\u001b[1m17/17\u001b[0m \u001b[32m━━━━━━━━━━━━━━━━━━━━\u001b[0m\u001b[37m\u001b[0m \u001b[1m22s\u001b[0m 568ms/step - accuracy: 0.6728 - loss: 9.1873 - val_accuracy: 0.8407 - val_loss: 6.3556\n",
            "Epoch 2/20\n",
            "\u001b[1m17/17\u001b[0m \u001b[32m━━━━━━━━━━━━━━━━━━━━\u001b[0m\u001b[37m\u001b[0m \u001b[1m1s\u001b[0m 62ms/step - accuracy: 0.8370 - loss: 5.5042 - val_accuracy: 0.8407 - val_loss: 2.7645\n",
            "Epoch 3/20\n",
            "\u001b[1m17/17\u001b[0m \u001b[32m━━━━━━━━━━━━━━━━━━━━\u001b[0m\u001b[37m\u001b[0m \u001b[1m1s\u001b[0m 63ms/step - accuracy: 0.8370 - loss: 2.1706 - val_accuracy: 0.8407 - val_loss: 1.1084\n",
            "Epoch 4/20\n",
            "\u001b[1m17/17\u001b[0m \u001b[32m━━━━━━━━━━━━━━━━━━━━\u001b[0m\u001b[37m\u001b[0m \u001b[1m1s\u001b[0m 61ms/step - accuracy: 0.8372 - loss: 1.0505 - val_accuracy: 0.8561 - val_loss: 0.9398\n",
            "Epoch 5/20\n",
            "\u001b[1m17/17\u001b[0m \u001b[32m━━━━━━━━━━━━━━━━━━━━\u001b[0m\u001b[37m\u001b[0m \u001b[1m1s\u001b[0m 62ms/step - accuracy: 0.8576 - loss: 0.8990 - val_accuracy: 0.8732 - val_loss: 0.8586\n",
            "Epoch 6/20\n",
            "\u001b[1m17/17\u001b[0m \u001b[32m━━━━━━━━━━━━━━━━━━━━\u001b[0m\u001b[37m\u001b[0m \u001b[1m1s\u001b[0m 61ms/step - accuracy: 0.8718 - loss: 0.8057 - val_accuracy: 0.8804 - val_loss: 0.7988\n",
            "Epoch 7/20\n",
            "\u001b[1m17/17\u001b[0m \u001b[32m━━━━━━━━━━━━━━━━━━━━\u001b[0m\u001b[37m\u001b[0m \u001b[1m1s\u001b[0m 65ms/step - accuracy: 0.8816 - loss: 0.7294 - val_accuracy: 0.8865 - val_loss: 0.7521\n",
            "Epoch 8/20\n",
            "\u001b[1m17/17\u001b[0m \u001b[32m━━━━━━━━━━━━━━━━━━━━\u001b[0m\u001b[37m\u001b[0m \u001b[1m1s\u001b[0m 63ms/step - accuracy: 0.8920 - loss: 0.6639 - val_accuracy: 0.8925 - val_loss: 0.7145\n",
            "Epoch 9/20\n",
            "\u001b[1m17/17\u001b[0m \u001b[32m━━━━━━━━━━━━━━━━━━━━\u001b[0m\u001b[37m\u001b[0m \u001b[1m1s\u001b[0m 62ms/step - accuracy: 0.9011 - loss: 0.6085 - val_accuracy: 0.8956 - val_loss: 0.6851\n",
            "Epoch 10/20\n",
            "\u001b[1m17/17\u001b[0m \u001b[32m━━━━━━━━━━━━━━━━━━━━\u001b[0m\u001b[37m\u001b[0m \u001b[1m1s\u001b[0m 63ms/step - accuracy: 0.9043 - loss: 0.5614 - val_accuracy: 0.8982 - val_loss: 0.6625\n",
            "Epoch 11/20\n",
            "\u001b[1m17/17\u001b[0m \u001b[32m━━━━━━━━━━━━━━━━━━━━\u001b[0m\u001b[37m\u001b[0m \u001b[1m1s\u001b[0m 61ms/step - accuracy: 0.9090 - loss: 0.5195 - val_accuracy: 0.8997 - val_loss: 0.6457\n",
            "Epoch 12/20\n",
            "\u001b[1m17/17\u001b[0m \u001b[32m━━━━━━━━━━━━━━━━━━━━\u001b[0m\u001b[37m\u001b[0m \u001b[1m1s\u001b[0m 63ms/step - accuracy: 0.9142 - loss: 0.4831 - val_accuracy: 0.9026 - val_loss: 0.6321\n",
            "Epoch 13/20\n",
            "\u001b[1m17/17\u001b[0m \u001b[32m━━━━━━━━━━━━━━━━━━━━\u001b[0m\u001b[37m\u001b[0m \u001b[1m1s\u001b[0m 63ms/step - accuracy: 0.9181 - loss: 0.4515 - val_accuracy: 0.9034 - val_loss: 0.6265\n",
            "Epoch 14/20\n",
            "\u001b[1m17/17\u001b[0m \u001b[32m━━━━━━━━━━━━━━━━━━━━\u001b[0m\u001b[37m\u001b[0m \u001b[1m1s\u001b[0m 67ms/step - accuracy: 0.9215 - loss: 0.4261 - val_accuracy: 0.9059 - val_loss: 0.6138\n",
            "Epoch 15/20\n",
            "\u001b[1m17/17\u001b[0m \u001b[32m━━━━━━━━━━━━━━━━━━━━\u001b[0m\u001b[37m\u001b[0m \u001b[1m1s\u001b[0m 68ms/step - accuracy: 0.9249 - loss: 0.4002 - val_accuracy: 0.9075 - val_loss: 0.6081\n",
            "Epoch 16/20\n",
            "\u001b[1m17/17\u001b[0m \u001b[32m━━━━━━━━━━━━━━━━━━━━\u001b[0m\u001b[37m\u001b[0m \u001b[1m1s\u001b[0m 68ms/step - accuracy: 0.9293 - loss: 0.3745 - val_accuracy: 0.9085 - val_loss: 0.5989\n",
            "Epoch 17/20\n",
            "\u001b[1m17/17\u001b[0m \u001b[32m━━━━━━━━━━━━━━━━━━━━\u001b[0m\u001b[37m\u001b[0m \u001b[1m1s\u001b[0m 64ms/step - accuracy: 0.9331 - loss: 0.3510 - val_accuracy: 0.9080 - val_loss: 0.5974\n",
            "Epoch 18/20\n",
            "\u001b[1m17/17\u001b[0m \u001b[32m━━━━━━━━━━━━━━━━━━━━\u001b[0m\u001b[37m\u001b[0m \u001b[1m1s\u001b[0m 68ms/step - accuracy: 0.9354 - loss: 0.3311 - val_accuracy: 0.9088 - val_loss: 0.5933\n",
            "Epoch 19/20\n",
            "\u001b[1m17/17\u001b[0m \u001b[32m━━━━━━━━━━━━━━━━━━━━\u001b[0m\u001b[37m\u001b[0m \u001b[1m1s\u001b[0m 67ms/step - accuracy: 0.9384 - loss: 0.3116 - val_accuracy: 0.9087 - val_loss: 0.5917\n",
            "Epoch 20/20\n",
            "\u001b[1m17/17\u001b[0m \u001b[32m━━━━━━━━━━━━━━━━━━━━\u001b[0m\u001b[37m\u001b[0m \u001b[1m1s\u001b[0m 64ms/step - accuracy: 0.9409 - loss: 0.2942 - val_accuracy: 0.9105 - val_loss: 0.5891\n"
          ]
        }
      ]
    },
    {
      "cell_type": "markdown",
      "source": [
        "## Evaluasi Model 3"
      ],
      "metadata": {
        "id": "Bhm7Xgi-OXiR"
      }
    },
    {
      "cell_type": "markdown",
      "source": [
        "### Evaluasi : loss"
      ],
      "metadata": {
        "id": "26fJJlkWOk41"
      }
    },
    {
      "cell_type": "code",
      "source": [
        "#  Evaluation: Accuracy, Loss\n",
        "loss, acc = model3.evaluate(test_ds)\n",
        "print(f\"\\nFinal Loss: {loss:.4f} | Final Accuracy: {acc:.4f}\")"
      ],
      "metadata": {
        "colab": {
          "base_uri": "https://localhost:8080/"
        },
        "id": "ZWR-zhyByZQh",
        "outputId": "6e5d8fc3-9e37-415e-d11a-6387eea8cd01"
      },
      "execution_count": null,
      "outputs": [
        {
          "output_type": "stream",
          "name": "stdout",
          "text": [
            "\u001b[1m5/5\u001b[0m \u001b[32m━━━━━━━━━━━━━━━━━━━━\u001b[0m\u001b[37m\u001b[0m \u001b[1m0s\u001b[0m 22ms/step - accuracy: 0.9121 - loss: 0.5755\n",
            "\n",
            "Final Loss: 0.5891 | Final Accuracy: 0.9105\n"
          ]
        }
      ]
    },
    {
      "cell_type": "markdown",
      "source": [
        "### Evaluasi : Purplexity"
      ],
      "metadata": {
        "id": "jaZzBlL3OtMM"
      }
    },
    {
      "cell_type": "code",
      "source": [
        "# Purplexity - Evaluasi\n",
        "# Ambil loss validasi terakhir\n",
        "val_loss = history1.history['val_loss'][-1]\n",
        "\n",
        "# Hitung perplexity\n",
        "perplexity = np.exp(val_loss)\n",
        "\n",
        "print(f\"Perplexity: {perplexity:.4f}\")"
      ],
      "metadata": {
        "colab": {
          "base_uri": "https://localhost:8080/"
        },
        "id": "A-KcJNDqCTAL",
        "outputId": "f10c8e16-4d05-4e01-a0cd-91b1aae026d6"
      },
      "execution_count": null,
      "outputs": [
        {
          "output_type": "stream",
          "name": "stdout",
          "text": [
            "Perplexity: 1.8024\n"
          ]
        }
      ]
    },
    {
      "cell_type": "markdown",
      "source": [
        "### Text predict untuk generate kata"
      ],
      "metadata": {
        "id": "BEpPVACEOzN9"
      }
    },
    {
      "cell_type": "markdown",
      "source": [
        "Hasil predict model 3"
      ],
      "metadata": {
        "id": "UEoCSemO2JoX"
      }
    },
    {
      "cell_type": "code",
      "source": [
        "num_tokens_generated = 20\n",
        "\n",
        "def generateHeadlingbest(start_prompt):\n",
        "    # Tokenisasi prompt untuk tampilkan info token\n",
        "    encoded = tokenizer.encode_plus(\n",
        "        start_prompt,\n",
        "        add_special_tokens=False,\n",
        "        return_attention_mask=False,\n",
        "        return_token_type_ids=False\n",
        "    )\n",
        "    tokens = tokenizer.convert_ids_to_tokens(encoded['input_ids'])\n",
        "\n",
        "    print(\"Prompt tokens:\", tokens)\n",
        "\n",
        "    # Gunakan token ID sebagai start_tokens\n",
        "    start_tokens = encoded['input_ids']\n",
        "\n",
        "    # Inisialisasi dan jalankan TextPredict\n",
        "    text_predict = TextPredict(\n",
        "        model=model3,\n",
        "        max_tokens=num_tokens_generated,\n",
        "        start_tokens=start_tokens,\n",
        "        tokenizer=tokenizer\n",
        "    )\n",
        "    text_predict.generate()\n"
      ],
      "metadata": {
        "id": "OlXkHtMd2Lgi"
      },
      "execution_count": null,
      "outputs": []
    },
    {
      "cell_type": "code",
      "source": [
        "# penggunaan:\n",
        "generateHeadling(\"intelligence\")"
      ],
      "metadata": {
        "colab": {
          "base_uri": "https://localhost:8080/"
        },
        "id": "WRoraF1Q2Xw1",
        "outputId": "3b3e559e-92fa-4157-9514-ad29999b0b88"
      },
      "execution_count": null,
      "outputs": [
        {
          "output_type": "stream",
          "name": "stdout",
          "text": [
            "Prompt tokens: ['intelligence']\n",
            "\n",
            "Generated text:\n",
            "intelligence the impact of sustainable tourism : what on education\n",
            "\n"
          ]
        }
      ]
    },
    {
      "cell_type": "markdown",
      "source": [
        "Model 3 ini memiliki performa lebih baik dibandingkan dengan model lainnya"
      ],
      "metadata": {
        "id": "8x1MWX_3Py8G"
      }
    },
    {
      "cell_type": "markdown",
      "source": [
        "# Hasil Plot"
      ],
      "metadata": {
        "id": "fCp-Y9fX2dVz"
      }
    },
    {
      "cell_type": "markdown",
      "source": [
        "## Model 1"
      ],
      "metadata": {
        "id": "dMsfXoYSO9aR"
      }
    },
    {
      "cell_type": "code",
      "source": [
        "# Akurasi Model 1\n",
        "plt.figure(figsize=(6, 4))\n",
        "plt.plot(history1.history['accuracy'], label='Train Acc')\n",
        "plt.plot(history1.history['val_accuracy'], linestyle='--', label='Val Acc')\n",
        "plt.title('Model 1 - Akurasi')\n",
        "plt.xlabel('Epoch')\n",
        "plt.ylabel('Akurasi')\n",
        "plt.legend()\n",
        "plt.grid(True)\n",
        "plt.show()\n",
        "\n",
        "# Loss Model 1\n",
        "plt.figure(figsize=(6, 4))\n",
        "plt.plot(history1.history['loss'], label='Train Loss')\n",
        "plt.plot(history1.history['val_loss'], linestyle='--', label='Val Loss')\n",
        "plt.title('Model 1 - Loss')\n",
        "plt.xlabel('Epoch')\n",
        "plt.ylabel('Loss')\n",
        "plt.legend()\n",
        "plt.grid(True)\n",
        "plt.show()"
      ],
      "metadata": {
        "colab": {
          "base_uri": "https://localhost:8080/",
          "height": 803
        },
        "id": "aaQ6lYdB3Y3s",
        "outputId": "bbf0ab02-870b-40f8-a8fe-0e76d4ba7772"
      },
      "execution_count": null,
      "outputs": [
        {
          "output_type": "display_data",
          "data": {
            "text/plain": [
              "<Figure size 600x400 with 1 Axes>"
            ],
            "image/png": "[encoded data removed]"
          },
          "metadata": {}
        },
        {
          "output_type": "display_data",
          "data": {
            "text/plain": [
              "<Figure size 600x400 with 1 Axes>"
            ],
            "image/png": "[encoded data removed]"
          },
          "metadata": {}
        }
      ]
    },
    {
      "cell_type": "markdown",
      "source": [
        "Berdasarkan kinerja dari model 1, didapatkan bahwa pada grafik los :\n",
        "\n",
        "*   terjadi penurunan cepat pada 3 sampai 4 epoch awal. hal ini menunjukkan bahwa model dapat dengan cepat memahami pola dari data yang ada.\n",
        "*   Setelah epoch ke 5, model menjadi lebih stabil, loss pun terus menurun.\n",
        "*   Terdapat gap dari train loss dengan val loss di epoch epoch akhir, kemungkinan mulai terjadi overfitting.\n",
        "* Namun melihat dari generate text yang telah dilakukan, dapat diketahui bahwa model ini dapat menjalankan task dengan baik.\n",
        "\n"
      ],
      "metadata": {
        "id": "MdiCOWCLQL1P"
      }
    },
    {
      "cell_type": "markdown",
      "source": [
        "## Model 2"
      ],
      "metadata": {
        "id": "arSqD3VIPBPV"
      }
    },
    {
      "cell_type": "code",
      "source": [
        "# Akurasi Model 2\n",
        "plt.figure(figsize=(6, 4))\n",
        "plt.plot(history2.history['accuracy'], label='Train Acc')\n",
        "plt.plot(history2.history['val_accuracy'], linestyle='--', label='Val Acc')\n",
        "plt.title('Model 2 - Akurasi')\n",
        "plt.xlabel('Epoch')\n",
        "plt.ylabel('Akurasi')\n",
        "plt.legend()\n",
        "plt.grid(True)\n",
        "plt.show()\n",
        "\n",
        "# Loss Model 2\n",
        "plt.figure(figsize=(6, 4))\n",
        "plt.plot(history2.history['loss'], label='Train Loss')\n",
        "plt.plot(history2.history['val_loss'], linestyle='--', label='Val Loss')\n",
        "plt.title('Model 2 - Loss')\n",
        "plt.xlabel('Epoch')\n",
        "plt.ylabel('Loss')\n",
        "plt.legend()\n",
        "plt.grid(True)\n",
        "plt.show()\n"
      ],
      "metadata": {
        "colab": {
          "base_uri": "https://localhost:8080/",
          "height": 803
        },
        "id": "vsULKdXL4gsP",
        "outputId": "868c2388-1d3c-4a19-d7d8-e2a761496310"
      },
      "execution_count": null,
      "outputs": [
        {
          "output_type": "display_data",
          "data": {
            "text/plain": [
              "<Figure size 600x400 with 1 Axes>"
            ],
            "image/png": "[encoded data removed]"
          },
          "metadata": {}
        },
        {
          "output_type": "display_data",
          "data": {
            "text/plain": [
              "<Figure size 600x400 with 1 Axes>"
            ],
            "image/png": "[encoded data removed]"
          },
          "metadata": {}
        }
      ]
    },
    {
      "cell_type": "markdown",
      "source": [
        "Berdasarkan kinerja dari model 2, didapatkan bahwa pada grafik los :\n",
        "\n",
        "*   terjadi penurunan cepat pada 3 sampai 4 epoch awal. hal ini menunjukkan bahwa model dapat dengan cepat memahami pola dari data yang ada.\n",
        "*   Setelah epoch ke 5, model menjadi lebih stabil, tapi terlihat validation loss terlihat lebih stagnan dibandingkan model 1\n",
        "*   Terdapat gap dari train loss dengan val loss di epoch epoch akhir, kemungkinan mulai terjadi overfitting walaupun dengan nilai selisih yang cukup kecil."
      ],
      "metadata": {
        "id": "aIqUp0bZRSHV"
      }
    },
    {
      "cell_type": "markdown",
      "source": [
        "## Model 3"
      ],
      "metadata": {
        "id": "t-VWnByEPDS2"
      }
    },
    {
      "cell_type": "code",
      "source": [
        "# Akurasi Model 3\n",
        "plt.figure(figsize=(6, 4))\n",
        "plt.plot(history3.history['accuracy'], label='Train Acc')\n",
        "plt.plot(history3.history['val_accuracy'], linestyle='--', label='Val Acc')\n",
        "plt.title('Model 3 - Akurasi')\n",
        "plt.xlabel('Epoch')\n",
        "plt.ylabel('Akurasi')\n",
        "plt.legend()\n",
        "plt.grid(True)\n",
        "plt.show()\n",
        "\n",
        "# Loss Model 3\n",
        "plt.figure(figsize=(6, 4))\n",
        "plt.plot(history3.history['loss'], label='Train Loss')\n",
        "plt.plot(history3.history['val_loss'], linestyle='--', label='Val Loss')\n",
        "plt.title('Model 3 - Loss')\n",
        "plt.xlabel('Epoch')\n",
        "plt.ylabel('Loss')\n",
        "plt.legend()\n",
        "plt.grid(True)\n",
        "plt.show()\n"
      ],
      "metadata": {
        "colab": {
          "base_uri": "https://localhost:8080/",
          "height": 803
        },
        "id": "ss0ZP4iw4iq9",
        "outputId": "1bf26534-4cbc-4d7b-f4e6-a0c3980fd99b"
      },
      "execution_count": null,
      "outputs": [
        {
          "output_type": "display_data",
          "data": {
            "text/plain": [
              "<Figure size 600x400 with 1 Axes>"
            ],
            "image/png": "[encoded data removed]"
          },
          "metadata": {}
        },
        {
          "output_type": "display_data",
          "data": {
            "text/plain": [
              "<Figure size 600x400 with 1 Axes>"
            ],
            "image/png": "[encoded data removed]"
          },
          "metadata": {}
        }
      ]
    },
    {
      "cell_type": "markdown",
      "source": [
        "Berdasarkan kinerja dari model 3, didapatkan bahwa pada grafik los :\n",
        "\n",
        "*   terjadi penurunan cepat pada 3 sampai 4 epoch awal. hal ini menunjukkan bahwa model dapat dengan cepat memahami pola dari data yang ada.\n",
        "*   Setelah epoch ke 5, model menjadi lebih stabil dan lebih rendah dibandingkan dengan model 1 dan 2\n",
        "*   Terdapat gap dari train loss dengan val loss di epoch epoch akhir, kemungkinan mulai terjadi overfitting walaupun dengan nilai selisih yang cukup kecil.\n",
        "* Namun melihat dari generate text yang telah dilakukan, dapat diketahui bahwa model ini dapat menjalankan task dengan baik."
      ],
      "metadata": {
        "id": "V32OgJc5SIuN"
      }
    },
    {
      "cell_type": "markdown",
      "source": [
        "#Vanila transformer"
      ],
      "metadata": {
        "id": "0ktQMecP5OjQ"
      }
    },
    {
      "cell_type": "markdown",
      "source": [
        "sama halnya dengan model 1,2 dan 3 baik dari segi training maupun evaluasi model, namun yang membedakan adalah pembuatan model transformernya dimana dilakukan perubahan posisi dimana layer normalisasi diterapkan bagian awal terlebih dahulu sebelum attention"
      ],
      "metadata": {
        "id": "Jv51M46OTYG6"
      }
    },
    {
      "cell_type": "markdown",
      "source": [
        "## Membuat block transformer"
      ],
      "metadata": {
        "id": "5qBIHmJAPKKN"
      }
    },
    {
      "cell_type": "code",
      "source": [
        "class TransformerBlockPreNorm(layers.Layer):\n",
        "    def __init__(self, embed_dim, num_heads, ff_dim, rate=0.1):\n",
        "        super().__init__()\n",
        "        self.att = layers.MultiHeadAttention(num_heads=num_heads, key_dim=embed_dim)\n",
        "        self.ffn = keras.Sequential([\n",
        "            layers.Dense(ff_dim, activation=\"relu\"),\n",
        "            layers.Dense(embed_dim),\n",
        "        ])\n",
        "        self.layernorm1 = layers.LayerNormalization(epsilon=1e-6)\n",
        "        self.layernorm2 = layers.LayerNormalization(epsilon=1e-6)\n",
        "        self.dropout1 = layers.Dropout(rate)\n",
        "        self.dropout2 = layers.Dropout(rate)\n",
        "\n",
        "    def call(self, inputs, mask=None, training=False):\n",
        "        if mask is not None:\n",
        "            mask = tf.cast(mask[:, tf.newaxis, tf.newaxis, :], dtype=tf.bool)\n",
        "\n",
        "        x1 = self.layernorm1(inputs)\n",
        "        attn_output = self.att(x1, x1, attention_mask=mask)\n",
        "        attn_output = self.dropout1(attn_output, training=training)\n",
        "        out1 = inputs + attn_output\n",
        "\n",
        "        x2 = self.layernorm2(out1)\n",
        "        ffn_output = self.ffn(x2)\n",
        "        ffn_output = self.dropout2(ffn_output, training=training)\n",
        "        return out1 + ffn_output\n"
      ],
      "metadata": {
        "id": "3BLmdTWF5Qi5"
      },
      "execution_count": null,
      "outputs": []
    },
    {
      "cell_type": "code",
      "source": [
        "def build_model_prenorm(num_heads, ff_dim):\n",
        "    inputs = layers.Input(shape=(None,), dtype=tf.int32)\n",
        "    embedding_layer = TokenAndPositionEmbedding(sequence_length, vocab_size, embedding_dim)\n",
        "    x = embedding_layer(inputs)\n",
        "    mask = embedding_layer.token_emb.compute_mask(inputs)\n",
        "\n",
        "    # Gunakan PreNorm Transformer Block\n",
        "    x = TransformerBlockPreNorm(embed_dim=embedding_dim, num_heads=num_heads, ff_dim=ff_dim)(x, mask=mask)\n",
        "    x = TransformerBlockPreNorm(embed_dim=embedding_dim, num_heads=num_heads, ff_dim=ff_dim)(x, mask=mask)\n",
        "\n",
        "    outputs = layers.Dense(vocab_size)(x)\n",
        "    return keras.Model(inputs=inputs, outputs=outputs)\n"
      ],
      "metadata": {
        "id": "FRVYnX196vZu"
      },
      "execution_count": null,
      "outputs": []
    },
    {
      "cell_type": "markdown",
      "source": [
        "##Melatih Model"
      ],
      "metadata": {
        "id": "DSCpfYjVPW04"
      }
    },
    {
      "cell_type": "code",
      "source": [
        "model_prenorm = build_model_prenorm(num_heads=4, ff_dim=128)\n",
        "model_prenorm.compile(optimizer=\"adam\", loss=tf.keras.losses.SparseCategoricalCrossentropy(from_logits=True), metrics=[\"accuracy\"])\n",
        "history_prenorm = model_prenorm.fit(train_ds, validation_data=test_ds, epochs=20)"
      ],
      "metadata": {
        "colab": {
          "base_uri": "https://localhost:8080/"
        },
        "id": "7dsYvRxS6zdK",
        "outputId": "f28389f3-cfe3-43c1-f18a-cc4c0afa878b"
      },
      "execution_count": null,
      "outputs": [
        {
          "output_type": "stream",
          "name": "stdout",
          "text": [
            "Epoch 1/20\n",
            "\u001b[1m17/17\u001b[0m \u001b[32m━━━━━━━━━━━━━━━━━━━━\u001b[0m\u001b[37m\u001b[0m \u001b[1m22s\u001b[0m 626ms/step - accuracy: 0.6694 - loss: 7.0786 - val_accuracy: 0.8407 - val_loss: 1.7595\n",
            "Epoch 2/20\n",
            "\u001b[1m17/17\u001b[0m \u001b[32m━━━━━━━━━━━━━━━━━━━━\u001b[0m\u001b[37m\u001b[0m \u001b[1m1s\u001b[0m 66ms/step - accuracy: 0.8370 - loss: 1.3537 - val_accuracy: 0.8407 - val_loss: 1.0876\n",
            "Epoch 3/20\n",
            "\u001b[1m17/17\u001b[0m \u001b[32m━━━━━━━━━━━━━━━━━━━━\u001b[0m\u001b[37m\u001b[0m \u001b[1m1s\u001b[0m 65ms/step - accuracy: 0.8380 - loss: 1.0082 - val_accuracy: 0.8564 - val_loss: 0.9456\n",
            "Epoch 4/20\n",
            "\u001b[1m17/17\u001b[0m \u001b[32m━━━━━━━━━━━━━━━━━━━━\u001b[0m\u001b[37m\u001b[0m \u001b[1m1s\u001b[0m 63ms/step - accuracy: 0.8526 - loss: 0.9210 - val_accuracy: 0.8527 - val_loss: 0.9396\n",
            "Epoch 5/20\n",
            "\u001b[1m17/17\u001b[0m \u001b[32m━━━━━━━━━━━━━━━━━━━━\u001b[0m\u001b[37m\u001b[0m \u001b[1m1s\u001b[0m 62ms/step - accuracy: 0.8495 - loss: 0.9049 - val_accuracy: 0.8563 - val_loss: 0.9114\n",
            "Epoch 6/20\n",
            "\u001b[1m17/17\u001b[0m \u001b[32m━━━━━━━━━━━━━━━━━━━━\u001b[0m\u001b[37m\u001b[0m \u001b[1m1s\u001b[0m 62ms/step - accuracy: 0.8565 - loss: 0.8665 - val_accuracy: 0.8643 - val_loss: 0.8921\n",
            "Epoch 7/20\n",
            "\u001b[1m17/17\u001b[0m \u001b[32m━━━━━━━━━━━━━━━━━━━━\u001b[0m\u001b[37m\u001b[0m \u001b[1m1s\u001b[0m 63ms/step - accuracy: 0.8612 - loss: 0.8282 - val_accuracy: 0.8658 - val_loss: 0.8722\n",
            "Epoch 8/20\n",
            "\u001b[1m17/17\u001b[0m \u001b[32m━━━━━━━━━━━━━━━━━━━━\u001b[0m\u001b[37m\u001b[0m \u001b[1m1s\u001b[0m 63ms/step - accuracy: 0.8657 - loss: 0.7961 - val_accuracy: 0.8718 - val_loss: 0.8478\n",
            "Epoch 9/20\n",
            "\u001b[1m17/17\u001b[0m \u001b[32m━━━━━━━━━━━━━━━━━━━━\u001b[0m\u001b[37m\u001b[0m \u001b[1m1s\u001b[0m 64ms/step - accuracy: 0.8707 - loss: 0.7591 - val_accuracy: 0.8730 - val_loss: 0.8343\n",
            "Epoch 10/20\n",
            "\u001b[1m17/17\u001b[0m \u001b[32m━━━━━━━━━━━━━━━━━━━━\u001b[0m\u001b[37m\u001b[0m \u001b[1m1s\u001b[0m 64ms/step - accuracy: 0.8747 - loss: 0.7222 - val_accuracy: 0.8769 - val_loss: 0.8036\n",
            "Epoch 11/20\n",
            "\u001b[1m17/17\u001b[0m \u001b[32m━━━━━━━━━━━━━━━━━━━━\u001b[0m\u001b[37m\u001b[0m \u001b[1m1s\u001b[0m 69ms/step - accuracy: 0.8779 - loss: 0.6899 - val_accuracy: 0.8795 - val_loss: 0.7875\n",
            "Epoch 12/20\n",
            "\u001b[1m17/17\u001b[0m \u001b[32m━━━━━━━━━━━━━━━━━━━━\u001b[0m\u001b[37m\u001b[0m \u001b[1m1s\u001b[0m 64ms/step - accuracy: 0.8821 - loss: 0.6501 - val_accuracy: 0.8839 - val_loss: 0.7644\n",
            "Epoch 13/20\n",
            "\u001b[1m17/17\u001b[0m \u001b[32m━━━━━━━━━━━━━━━━━━━━\u001b[0m\u001b[37m\u001b[0m \u001b[1m1s\u001b[0m 64ms/step - accuracy: 0.8880 - loss: 0.6158 - val_accuracy: 0.8886 - val_loss: 0.7449\n",
            "Epoch 14/20\n",
            "\u001b[1m17/17\u001b[0m \u001b[32m━━━━━━━━━━━━━━━━━━━━\u001b[0m\u001b[37m\u001b[0m \u001b[1m1s\u001b[0m 68ms/step - accuracy: 0.8935 - loss: 0.5748 - val_accuracy: 0.8948 - val_loss: 0.7141\n",
            "Epoch 15/20\n",
            "\u001b[1m17/17\u001b[0m \u001b[32m━━━━━━━━━━━━━━━━━━━━\u001b[0m\u001b[37m\u001b[0m \u001b[1m1s\u001b[0m 64ms/step - accuracy: 0.8993 - loss: 0.5327 - val_accuracy: 0.9039 - val_loss: 0.6699\n",
            "Epoch 16/20\n",
            "\u001b[1m17/17\u001b[0m \u001b[32m━━━━━━━━━━━━━━━━━━━━\u001b[0m\u001b[37m\u001b[0m \u001b[1m1s\u001b[0m 69ms/step - accuracy: 0.9054 - loss: 0.4859 - val_accuracy: 0.9111 - val_loss: 0.6474\n",
            "Epoch 17/20\n",
            "\u001b[1m17/17\u001b[0m \u001b[32m━━━━━━━━━━━━━━━━━━━━\u001b[0m\u001b[37m\u001b[0m \u001b[1m1s\u001b[0m 65ms/step - accuracy: 0.9114 - loss: 0.4456 - val_accuracy: 0.9190 - val_loss: 0.5725\n",
            "Epoch 18/20\n",
            "\u001b[1m17/17\u001b[0m \u001b[32m━━━━━━━━━━━━━━━━━━━━\u001b[0m\u001b[37m\u001b[0m \u001b[1m1s\u001b[0m 65ms/step - accuracy: 0.9212 - loss: 0.3906 - val_accuracy: 0.9337 - val_loss: 0.5123\n",
            "Epoch 19/20\n",
            "\u001b[1m17/17\u001b[0m \u001b[32m━━━━━━━━━━━━━━━━━━━━\u001b[0m\u001b[37m\u001b[0m \u001b[1m1s\u001b[0m 65ms/step - accuracy: 0.9344 - loss: 0.3201 - val_accuracy: 0.9460 - val_loss: 0.4650\n",
            "Epoch 20/20\n",
            "\u001b[1m17/17\u001b[0m \u001b[32m━━━━━━━━━━━━━━━━━━━━\u001b[0m\u001b[37m\u001b[0m \u001b[1m1s\u001b[0m 65ms/step - accuracy: 0.9458 - loss: 0.2655 - val_accuracy: 0.9548 - val_loss: 0.4336\n"
          ]
        }
      ]
    },
    {
      "cell_type": "markdown",
      "source": [
        "## Evaluasi Model"
      ],
      "metadata": {
        "id": "gxzZFbjDPb37"
      }
    },
    {
      "cell_type": "markdown",
      "source": [
        "###Evaluasi : Loss"
      ],
      "metadata": {
        "id": "ZdA6GeuJPfs5"
      }
    },
    {
      "cell_type": "code",
      "source": [
        "#  Evaluation: Accuracy, Loss\n",
        "loss, acc = model_prenorm.evaluate(test_ds)\n",
        "print(f\"\\nFinal Loss: {loss:.4f} | Final Accuracy: {acc:.4f}\")"
      ],
      "metadata": {
        "colab": {
          "base_uri": "https://localhost:8080/"
        },
        "id": "wiLhs39w9-H8",
        "outputId": "42e85b37-58d6-4bb3-860c-954ffbe3a16b"
      },
      "execution_count": null,
      "outputs": [
        {
          "output_type": "stream",
          "name": "stdout",
          "text": [
            "\u001b[1m5/5\u001b[0m \u001b[32m━━━━━━━━━━━━━━━━━━━━\u001b[0m\u001b[37m\u001b[0m \u001b[1m0s\u001b[0m 21ms/step - accuracy: 0.9555 - loss: 0.4134\n",
            "\n",
            "Final Loss: 0.4336 | Final Accuracy: 0.9548\n"
          ]
        }
      ]
    },
    {
      "cell_type": "markdown",
      "source": [
        "### Evaluasi Purplexity"
      ],
      "metadata": {
        "id": "CX0DHdQIPi3A"
      }
    },
    {
      "cell_type": "code",
      "source": [
        "# Purplexity - Evaluasi\n",
        "# Ambil loss validasi terakhir\n",
        "val_loss = history1.history['val_loss'][-1]\n",
        "\n",
        "# Hitung perplexity\n",
        "perplexity = np.exp(val_loss)\n",
        "\n",
        "print(f\"Perplexity: {perplexity:.4f}\")"
      ],
      "metadata": {
        "colab": {
          "base_uri": "https://localhost:8080/"
        },
        "id": "cRPvsFNdCnJi",
        "outputId": "1515e540-3de4-4eb9-b4f1-0e9ea767de1a"
      },
      "execution_count": null,
      "outputs": [
        {
          "output_type": "stream",
          "name": "stdout",
          "text": [
            "Perplexity: 1.5428\n"
          ]
        }
      ]
    },
    {
      "cell_type": "markdown",
      "source": [
        "### Plot"
      ],
      "metadata": {
        "id": "D31cydB-Pl27"
      }
    },
    {
      "cell_type": "code",
      "source": [
        "# Akurasi Model Prenorm\n",
        "plt.figure(figsize=(6, 4))\n",
        "plt.plot(history_prenorm.history['accuracy'], label='Train Acc')\n",
        "plt.plot(history_prenorm.history['val_accuracy'], linestyle='--', label='Val Acc')\n",
        "plt.title('Model Prenorm - Akurasi')\n",
        "plt.xlabel('Epoch')\n",
        "plt.ylabel('Akurasi')\n",
        "plt.legend()\n",
        "plt.grid(True)\n",
        "plt.show()\n",
        "\n",
        "# Loss Model Prenorm\n",
        "plt.figure(figsize=(6, 4))\n",
        "plt.plot(history_prenorm.history['loss'], label='Train Loss')\n",
        "plt.plot(history_prenorm.history['val_loss'], linestyle='--', label='Val Loss')\n",
        "plt.title('Model Prenorm - Loss')\n",
        "plt.xlabel('Epoch')\n",
        "plt.ylabel('Loss')\n",
        "plt.legend()\n",
        "plt.grid(True)\n",
        "plt.show()\n"
      ],
      "metadata": {
        "colab": {
          "base_uri": "https://localhost:8080/",
          "height": 803
        },
        "id": "MBhdUNYw9f-m",
        "outputId": "6ab19225-dfb9-4e07-a626-292b9ff4bd5c"
      },
      "execution_count": null,
      "outputs": [
        {
          "output_type": "display_data",
          "data": {
            "text/plain": [
              "<Figure size 600x400 with 1 Axes>"
            ],
            "image/png": "[encoded data removed]"
          },
          "metadata": {}
        },
        {
          "output_type": "display_data",
          "data": {
            "text/plain": [
              "<Figure size 600x400 with 1 Axes>"
            ],
            "image/png": "[encoded data removed]"
          },
          "metadata": {}
        }
      ]
    },
    {
      "cell_type": "markdown",
      "source": [
        "Berdasarkan kinerja dari model 3, didapatkan bahwa pada grafik :\n",
        "\n",
        "*   Penurunan loss yang drastis pada epoch ke 2\n",
        "*   Setelah epoch ke 3, model menjadi lebih stabil dan lebih rendah dibandingkan dengan model sebelumnya\n",
        "*   Model cenderung baik dari akurasi pun model tidak terjadi indikasi overfitting dan tidak terdapat perbedaan yang signifikan sehingga model ini lebih baik dibandingkan dengan model lainnya"
      ],
      "metadata": {
        "id": "pcp_t7U3UFu9"
      }
    }
  ]
}